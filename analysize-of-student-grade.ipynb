{
 "cells": [
  {
   "cell_type": "markdown",
   "metadata": {},
   "source": [
    "Source:<br>\n",
    "Paulo Cortez, University of Minho, GuimarÃ£es, Portugal, http://www3.dsi.uminho.pt/pcortez<br>\n",
    "\n",
    "Data Set Information:<br>\n",
    "This data approach student achievement in secondary education of two Portuguese schools. The data attributes include student grades, demographic, social and school-related features) and it was collected by using school reports and questionnaires. Two datasets are provided regarding the performance in two distinct subjects: Mathematics (mat) and Portuguese language (por). In [Cortez and Silva, 2008], the two datasets were modeled under binary/five-level classification and regression tasks. Important note: the target attribute G3 has a strong correlation with attributes G2 and G1. This occurs because G3 is the final year grade (issued at the 3rd period), while G1 and G2 correspond to the 1st and 2nd period grades. It is more difficult to predict G3 without G2 and G1, but such prediction is much more useful (see paper source for more details).<br>\n",
    "\n",
    "Attribute Information:<br>\n",
    "school - student's school (binary: 'GP' - Gabriel Pereira or 'MS' - Mousinho da Silveira)<br>\n",
    "sex - student's sex (binary: 'F' - female or 'M' - male)<br>\n",
    "age - student's age (numeric: from 15 to 22)<br>\n",
    "address - student's home address type (binary: 'U' - urban or 'R' - rural)<br>\n",
    "famsize - family size (binary: 'LE3' - less or equal to 3 or 'GT3' - greater than 3)<br>\n",
    "Pstatus - parent's cohabitation status (binary: 'T' - living together or 'A' - apart)<br>\n",
    "Medu - mother's education (numeric: 0 - none, 1 - primary education (4th grade), 2 â€“ 5th to 9th grade, 3 â€“ secondary education or 4 â€“ higher education)<br>\n",
    "Fedu - father's education (numeric: 0 - none, 1 - primary education (4th grade), 2 â€“ 5th to 9th grade, 3 â€“ secondary education or 4 â€“ higher education)<br>\n",
    "Mjob - mother's job (nominal: 'teacher', 'health' care related, civil 'services' (e.g. administrative or police), 'at_home' or 'other')<br>\n",
    "Fjob - father's job (nominal: 'teacher', 'health' care related, civil 'services' (e.g. administrative or police), 'at_home' or 'other')<br>\n",
    "reason - reason to choose this school (nominal: close to 'home', school 'reputation', 'course' preference or 'other')<br>\n",
    "guardian - student's guardian (nominal: 'mother', 'father' or 'other')<br>\n",
    "traveltime - home to school travel time (numeric: 1 - <15 min., 2 - 15 to 30 min., 3 - 30 min. to 1 hour, or 4 - >1 hour)<br>\n",
    "studytime - weekly study time (numeric: 1 - <2 hours, 2 - 2 to 5 hours, 3 - 5 to 10 hours, or 4 - >10 hours)<br>\n",
    "failures - number of past class failures (numeric: n if 1<=n<3, else 4)<br>\n",
    "schoolsup - extra educational support (binary: yes or no)<br>\n",
    "famsup - family educational support (binary: yes or no)<br>\n",
    "paid - extra paid classes within the course subject (Math or Portuguese) (binary: yes or no)<br>\n",
    "activities - extra-curricular activities (binary: yes or no)<br>\n",
    "nursery - attended nursery school (binary: yes or no)<br>\n",
    "higher - wants to take higher education (binary: yes or no)<br>\n",
    "internet - Internet access at home (binary: yes or no)<br>\n",
    "romantic - with a romantic relationship (binary: yes or no)<br>\n",
    "famrel - quality of family relationships (numeric: from 1 - very bad to 5 - excellent)<br>\n",
    "freetime - free time after school (numeric: from 1 - very low to 5 - very high)<br>\n",
    "goout - going out with friends (numeric: from 1 - very low to 5 - very high)<br>\n",
    "Dalc - workday alcohol consumption (numeric: from 1 - very low to 5 - very high)<br>\n",
    "Walc - weekend alcohol consumption (numeric: from 1 - very low to 5 - very high)<br>\n",
    "health - current health status (numeric: from 1 - very bad to 5 - very good)<br>\n",
    "absences - number of school absences (numeric: from 0 to 93)<br>"
   ]
  },
  {
   "cell_type": "markdown",
   "metadata": {},
   "source": [
    "<font size=6>目标</font>"
   ]
  },
  {
   "cell_type": "markdown",
   "metadata": {},
   "source": [
    "<font size=4 color='#4682B4'>本文从个人、家庭、学校三个维度展开分析， 探讨各维度对测验成绩的影响。<br>\n",
    "   本文的数据预处理、可视化部分由python实现，相关性分析和建模由R语言实现"
   ]
  },
  {
   "cell_type": "markdown",
   "metadata": {},
   "source": [
    "<font size=6>索引</font>"
   ]
  },
  {
   "cell_type": "markdown",
   "metadata": {},
   "source": [
    "<a href='#personal'>个人维度</a><br>\n",
    "&nbsp;&nbsp;&nbsp;&nbsp;<a href='#personal_sex'>性别</a><br>\n",
    "&nbsp;&nbsp;&nbsp;&nbsp;<a href='#personal_high'>接受高等教育的意愿</a><br>\n",
    "&nbsp;&nbsp;&nbsp;&nbsp;<a href='#personal_romantic'>情感状态</a><br>\n",
    "&nbsp;&nbsp;&nbsp;&nbsp;<a href='#personal_stime'>学习时间</a><br>\n",
    "&nbsp;&nbsp;&nbsp;&nbsp;<a href='#personal_ftime'>自由时间</a><br>\n",
    "<a href='#family_address'>家庭维度</a><br>\n",
    "&nbsp;&nbsp;&nbsp;&nbsp;<a href='#family_address'>居住地</a><br>\n",
    "&nbsp;&nbsp;&nbsp;&nbsp;<a href='#family_size'>家庭规模</a><br>\n",
    "&nbsp;&nbsp;&nbsp;&nbsp;<a href='#family_dev'>父母婚姻状况</a><br>\n",
    "&nbsp;&nbsp;&nbsp;&nbsp;<a href='#family_edu'>父母教育背景</a><br>\n",
    "&nbsp;&nbsp;&nbsp;&nbsp;<a href='#family_career'>父母职业</a><br>\n",
    "&nbsp;&nbsp;&nbsp;&nbsp;<a href='#family_sup'>家庭辅导</a><br>\n",
    "&nbsp;&nbsp;&nbsp;&nbsp;<a href='#family_paid'>课外辅导</a><br>\n",
    "&nbsp;&nbsp;&nbsp;&nbsp;<a href='#family_internet'>网络环境</a><br>\n",
    "<a href='#sc_school'>学校维度</a><br>\n",
    "&nbsp;&nbsp;&nbsp;&nbsp;<a href='#sc_school'>学校之间</a><br>\n",
    "&nbsp;&nbsp;&nbsp;&nbsp;<a href='#sc_sup'>学校辅导</a><br>\n",
    "&nbsp;&nbsp;&nbsp;&nbsp;<a href='#sc_ab'>缺席和挂科</a><br>\n",
    "<a href='#summary'>总结</a><br>\n"
   ]
  },
  {
   "cell_type": "markdown",
   "metadata": {},
   "source": [
    "<font size=6 >数据预处理</font>\n"
   ]
  },
  {
   "cell_type": "code",
   "execution_count": 1,
   "metadata": {},
   "outputs": [],
   "source": [
    "import numpy as np\n",
    "import pandas as pd\n",
    "from pandas import Series, DataFrame\n",
    "import seaborn as sns\n",
    "import matplotlib.pyplot as plt\n",
    "import scipy.stats"
   ]
  },
  {
   "cell_type": "markdown",
   "metadata": {},
   "source": [
    "<font size=4 color='#4682B4'>描述整体数据"
   ]
  },
  {
   "cell_type": "code",
   "execution_count": 2,
   "metadata": {},
   "outputs": [],
   "source": [
    "df = pd.read_csv('data/student-mat.csv')"
   ]
  },
  {
   "cell_type": "code",
   "execution_count": 13,
   "metadata": {},
   "outputs": [
    {
     "data": {
      "text/plain": [
       "(395, 33)"
      ]
     },
     "execution_count": 13,
     "metadata": {},
     "output_type": "execute_result"
    }
   ],
   "source": [
    "df.shape"
   ]
  },
  {
   "cell_type": "markdown",
   "metadata": {},
   "source": [
    "<font size=4 color='#4682B4'>共有395行、33列<br>涉及个人（年龄、性别、两性关系、学习时间、自由时间等）、家庭（家庭构成、双亲职业、双亲受教育程度、网络环境、住址等）、学校（测试成绩、学校辅导、缺勤数等）三个维度"
   ]
  },
  {
   "cell_type": "code",
   "execution_count": 8,
   "metadata": {},
   "outputs": [
    {
     "data": {
      "text/html": [
       "<div>\n",
       "<style scoped>\n",
       "    .dataframe tbody tr th:only-of-type {\n",
       "        vertical-align: middle;\n",
       "    }\n",
       "\n",
       "    .dataframe tbody tr th {\n",
       "        vertical-align: top;\n",
       "    }\n",
       "\n",
       "    .dataframe thead th {\n",
       "        text-align: right;\n",
       "    }\n",
       "</style>\n",
       "<table border=\"1\" class=\"dataframe\">\n",
       "  <thead>\n",
       "    <tr style=\"text-align: right;\">\n",
       "      <th></th>\n",
       "      <th>school</th>\n",
       "      <th>sex</th>\n",
       "      <th>age</th>\n",
       "      <th>address</th>\n",
       "      <th>famsize</th>\n",
       "      <th>Pstatus</th>\n",
       "      <th>Medu</th>\n",
       "      <th>Fedu</th>\n",
       "      <th>Mjob</th>\n",
       "      <th>Fjob</th>\n",
       "      <th>reason</th>\n",
       "      <th>guardian</th>\n",
       "      <th>traveltime</th>\n",
       "      <th>studytime</th>\n",
       "      <th>failures</th>\n",
       "      <th>schoolsup</th>\n",
       "      <th>famsup</th>\n",
       "      <th>paid</th>\n",
       "      <th>activities</th>\n",
       "      <th>nursery</th>\n",
       "      <th>higher</th>\n",
       "      <th>internet</th>\n",
       "      <th>romantic</th>\n",
       "      <th>famrel</th>\n",
       "      <th>freetime</th>\n",
       "      <th>goout</th>\n",
       "      <th>Dalc</th>\n",
       "      <th>Walc</th>\n",
       "      <th>health</th>\n",
       "      <th>absences</th>\n",
       "      <th>G1</th>\n",
       "      <th>G2</th>\n",
       "      <th>G3</th>\n",
       "    </tr>\n",
       "  </thead>\n",
       "  <tbody>\n",
       "    <tr>\n",
       "      <td>0</td>\n",
       "      <td>GP</td>\n",
       "      <td>F</td>\n",
       "      <td>18</td>\n",
       "      <td>U</td>\n",
       "      <td>GT3</td>\n",
       "      <td>A</td>\n",
       "      <td>4</td>\n",
       "      <td>4</td>\n",
       "      <td>at_home</td>\n",
       "      <td>teacher</td>\n",
       "      <td>course</td>\n",
       "      <td>mother</td>\n",
       "      <td>2</td>\n",
       "      <td>2</td>\n",
       "      <td>0</td>\n",
       "      <td>yes</td>\n",
       "      <td>no</td>\n",
       "      <td>no</td>\n",
       "      <td>no</td>\n",
       "      <td>yes</td>\n",
       "      <td>yes</td>\n",
       "      <td>no</td>\n",
       "      <td>no</td>\n",
       "      <td>4</td>\n",
       "      <td>3</td>\n",
       "      <td>4</td>\n",
       "      <td>1</td>\n",
       "      <td>1</td>\n",
       "      <td>3</td>\n",
       "      <td>6</td>\n",
       "      <td>5</td>\n",
       "      <td>6</td>\n",
       "      <td>6</td>\n",
       "    </tr>\n",
       "    <tr>\n",
       "      <td>1</td>\n",
       "      <td>GP</td>\n",
       "      <td>F</td>\n",
       "      <td>17</td>\n",
       "      <td>U</td>\n",
       "      <td>GT3</td>\n",
       "      <td>T</td>\n",
       "      <td>1</td>\n",
       "      <td>1</td>\n",
       "      <td>at_home</td>\n",
       "      <td>other</td>\n",
       "      <td>course</td>\n",
       "      <td>father</td>\n",
       "      <td>1</td>\n",
       "      <td>2</td>\n",
       "      <td>0</td>\n",
       "      <td>no</td>\n",
       "      <td>yes</td>\n",
       "      <td>no</td>\n",
       "      <td>no</td>\n",
       "      <td>no</td>\n",
       "      <td>yes</td>\n",
       "      <td>yes</td>\n",
       "      <td>no</td>\n",
       "      <td>5</td>\n",
       "      <td>3</td>\n",
       "      <td>3</td>\n",
       "      <td>1</td>\n",
       "      <td>1</td>\n",
       "      <td>3</td>\n",
       "      <td>4</td>\n",
       "      <td>5</td>\n",
       "      <td>5</td>\n",
       "      <td>6</td>\n",
       "    </tr>\n",
       "    <tr>\n",
       "      <td>2</td>\n",
       "      <td>GP</td>\n",
       "      <td>F</td>\n",
       "      <td>15</td>\n",
       "      <td>U</td>\n",
       "      <td>LE3</td>\n",
       "      <td>T</td>\n",
       "      <td>1</td>\n",
       "      <td>1</td>\n",
       "      <td>at_home</td>\n",
       "      <td>other</td>\n",
       "      <td>other</td>\n",
       "      <td>mother</td>\n",
       "      <td>1</td>\n",
       "      <td>2</td>\n",
       "      <td>3</td>\n",
       "      <td>yes</td>\n",
       "      <td>no</td>\n",
       "      <td>yes</td>\n",
       "      <td>no</td>\n",
       "      <td>yes</td>\n",
       "      <td>yes</td>\n",
       "      <td>yes</td>\n",
       "      <td>no</td>\n",
       "      <td>4</td>\n",
       "      <td>3</td>\n",
       "      <td>2</td>\n",
       "      <td>2</td>\n",
       "      <td>3</td>\n",
       "      <td>3</td>\n",
       "      <td>10</td>\n",
       "      <td>7</td>\n",
       "      <td>8</td>\n",
       "      <td>10</td>\n",
       "    </tr>\n",
       "    <tr>\n",
       "      <td>3</td>\n",
       "      <td>GP</td>\n",
       "      <td>F</td>\n",
       "      <td>15</td>\n",
       "      <td>U</td>\n",
       "      <td>GT3</td>\n",
       "      <td>T</td>\n",
       "      <td>4</td>\n",
       "      <td>2</td>\n",
       "      <td>health</td>\n",
       "      <td>services</td>\n",
       "      <td>home</td>\n",
       "      <td>mother</td>\n",
       "      <td>1</td>\n",
       "      <td>3</td>\n",
       "      <td>0</td>\n",
       "      <td>no</td>\n",
       "      <td>yes</td>\n",
       "      <td>yes</td>\n",
       "      <td>yes</td>\n",
       "      <td>yes</td>\n",
       "      <td>yes</td>\n",
       "      <td>yes</td>\n",
       "      <td>yes</td>\n",
       "      <td>3</td>\n",
       "      <td>2</td>\n",
       "      <td>2</td>\n",
       "      <td>1</td>\n",
       "      <td>1</td>\n",
       "      <td>5</td>\n",
       "      <td>2</td>\n",
       "      <td>15</td>\n",
       "      <td>14</td>\n",
       "      <td>15</td>\n",
       "    </tr>\n",
       "    <tr>\n",
       "      <td>4</td>\n",
       "      <td>GP</td>\n",
       "      <td>F</td>\n",
       "      <td>16</td>\n",
       "      <td>U</td>\n",
       "      <td>GT3</td>\n",
       "      <td>T</td>\n",
       "      <td>3</td>\n",
       "      <td>3</td>\n",
       "      <td>other</td>\n",
       "      <td>other</td>\n",
       "      <td>home</td>\n",
       "      <td>father</td>\n",
       "      <td>1</td>\n",
       "      <td>2</td>\n",
       "      <td>0</td>\n",
       "      <td>no</td>\n",
       "      <td>yes</td>\n",
       "      <td>yes</td>\n",
       "      <td>no</td>\n",
       "      <td>yes</td>\n",
       "      <td>yes</td>\n",
       "      <td>no</td>\n",
       "      <td>no</td>\n",
       "      <td>4</td>\n",
       "      <td>3</td>\n",
       "      <td>2</td>\n",
       "      <td>1</td>\n",
       "      <td>2</td>\n",
       "      <td>5</td>\n",
       "      <td>4</td>\n",
       "      <td>6</td>\n",
       "      <td>10</td>\n",
       "      <td>10</td>\n",
       "    </tr>\n",
       "  </tbody>\n",
       "</table>\n",
       "</div>"
      ],
      "text/plain": [
       "  school sex  age address famsize Pstatus  ...  Walc  health absences  G1  G2  G3\n",
       "0     GP   F   18       U     GT3       A  ...     1       3        6   5   6   6\n",
       "1     GP   F   17       U     GT3       T  ...     1       3        4   5   5   6\n",
       "2     GP   F   15       U     LE3       T  ...     3       3       10   7   8  10\n",
       "3     GP   F   15       U     GT3       T  ...     1       5        2  15  14  15\n",
       "4     GP   F   16       U     GT3       T  ...     2       5        4   6  10  10\n",
       "\n",
       "[5 rows x 33 columns]"
      ]
     },
     "execution_count": 8,
     "metadata": {},
     "output_type": "execute_result"
    }
   ],
   "source": [
    "df[:5]"
   ]
  },
  {
   "cell_type": "code",
   "execution_count": 10,
   "metadata": {},
   "outputs": [
    {
     "data": {
      "text/html": [
       "<div>\n",
       "<style scoped>\n",
       "    .dataframe tbody tr th:only-of-type {\n",
       "        vertical-align: middle;\n",
       "    }\n",
       "\n",
       "    .dataframe tbody tr th {\n",
       "        vertical-align: top;\n",
       "    }\n",
       "\n",
       "    .dataframe thead th {\n",
       "        text-align: right;\n",
       "    }\n",
       "</style>\n",
       "<table border=\"1\" class=\"dataframe\">\n",
       "  <thead>\n",
       "    <tr style=\"text-align: right;\">\n",
       "      <th></th>\n",
       "      <th>count</th>\n",
       "      <th>mean</th>\n",
       "      <th>std</th>\n",
       "      <th>min</th>\n",
       "      <th>25%</th>\n",
       "      <th>50%</th>\n",
       "      <th>75%</th>\n",
       "      <th>max</th>\n",
       "    </tr>\n",
       "  </thead>\n",
       "  <tbody>\n",
       "    <tr>\n",
       "      <td>age</td>\n",
       "      <td>395.0</td>\n",
       "      <td>16.696203</td>\n",
       "      <td>1.276043</td>\n",
       "      <td>15.0</td>\n",
       "      <td>16.0</td>\n",
       "      <td>17.0</td>\n",
       "      <td>18.0</td>\n",
       "      <td>22.0</td>\n",
       "    </tr>\n",
       "    <tr>\n",
       "      <td>Medu</td>\n",
       "      <td>395.0</td>\n",
       "      <td>2.749367</td>\n",
       "      <td>1.094735</td>\n",
       "      <td>0.0</td>\n",
       "      <td>2.0</td>\n",
       "      <td>3.0</td>\n",
       "      <td>4.0</td>\n",
       "      <td>4.0</td>\n",
       "    </tr>\n",
       "    <tr>\n",
       "      <td>Fedu</td>\n",
       "      <td>395.0</td>\n",
       "      <td>2.521519</td>\n",
       "      <td>1.088201</td>\n",
       "      <td>0.0</td>\n",
       "      <td>2.0</td>\n",
       "      <td>2.0</td>\n",
       "      <td>3.0</td>\n",
       "      <td>4.0</td>\n",
       "    </tr>\n",
       "    <tr>\n",
       "      <td>traveltime</td>\n",
       "      <td>395.0</td>\n",
       "      <td>1.448101</td>\n",
       "      <td>0.697505</td>\n",
       "      <td>1.0</td>\n",
       "      <td>1.0</td>\n",
       "      <td>1.0</td>\n",
       "      <td>2.0</td>\n",
       "      <td>4.0</td>\n",
       "    </tr>\n",
       "    <tr>\n",
       "      <td>studytime</td>\n",
       "      <td>395.0</td>\n",
       "      <td>2.035443</td>\n",
       "      <td>0.839240</td>\n",
       "      <td>1.0</td>\n",
       "      <td>1.0</td>\n",
       "      <td>2.0</td>\n",
       "      <td>2.0</td>\n",
       "      <td>4.0</td>\n",
       "    </tr>\n",
       "    <tr>\n",
       "      <td>failures</td>\n",
       "      <td>395.0</td>\n",
       "      <td>0.334177</td>\n",
       "      <td>0.743651</td>\n",
       "      <td>0.0</td>\n",
       "      <td>0.0</td>\n",
       "      <td>0.0</td>\n",
       "      <td>0.0</td>\n",
       "      <td>3.0</td>\n",
       "    </tr>\n",
       "    <tr>\n",
       "      <td>famrel</td>\n",
       "      <td>395.0</td>\n",
       "      <td>3.944304</td>\n",
       "      <td>0.896659</td>\n",
       "      <td>1.0</td>\n",
       "      <td>4.0</td>\n",
       "      <td>4.0</td>\n",
       "      <td>5.0</td>\n",
       "      <td>5.0</td>\n",
       "    </tr>\n",
       "    <tr>\n",
       "      <td>freetime</td>\n",
       "      <td>395.0</td>\n",
       "      <td>3.235443</td>\n",
       "      <td>0.998862</td>\n",
       "      <td>1.0</td>\n",
       "      <td>3.0</td>\n",
       "      <td>3.0</td>\n",
       "      <td>4.0</td>\n",
       "      <td>5.0</td>\n",
       "    </tr>\n",
       "    <tr>\n",
       "      <td>goout</td>\n",
       "      <td>395.0</td>\n",
       "      <td>3.108861</td>\n",
       "      <td>1.113278</td>\n",
       "      <td>1.0</td>\n",
       "      <td>2.0</td>\n",
       "      <td>3.0</td>\n",
       "      <td>4.0</td>\n",
       "      <td>5.0</td>\n",
       "    </tr>\n",
       "    <tr>\n",
       "      <td>Dalc</td>\n",
       "      <td>395.0</td>\n",
       "      <td>1.481013</td>\n",
       "      <td>0.890741</td>\n",
       "      <td>1.0</td>\n",
       "      <td>1.0</td>\n",
       "      <td>1.0</td>\n",
       "      <td>2.0</td>\n",
       "      <td>5.0</td>\n",
       "    </tr>\n",
       "    <tr>\n",
       "      <td>Walc</td>\n",
       "      <td>395.0</td>\n",
       "      <td>2.291139</td>\n",
       "      <td>1.287897</td>\n",
       "      <td>1.0</td>\n",
       "      <td>1.0</td>\n",
       "      <td>2.0</td>\n",
       "      <td>3.0</td>\n",
       "      <td>5.0</td>\n",
       "    </tr>\n",
       "    <tr>\n",
       "      <td>health</td>\n",
       "      <td>395.0</td>\n",
       "      <td>3.554430</td>\n",
       "      <td>1.390303</td>\n",
       "      <td>1.0</td>\n",
       "      <td>3.0</td>\n",
       "      <td>4.0</td>\n",
       "      <td>5.0</td>\n",
       "      <td>5.0</td>\n",
       "    </tr>\n",
       "    <tr>\n",
       "      <td>absences</td>\n",
       "      <td>395.0</td>\n",
       "      <td>5.708861</td>\n",
       "      <td>8.003096</td>\n",
       "      <td>0.0</td>\n",
       "      <td>0.0</td>\n",
       "      <td>4.0</td>\n",
       "      <td>8.0</td>\n",
       "      <td>75.0</td>\n",
       "    </tr>\n",
       "    <tr>\n",
       "      <td>G1</td>\n",
       "      <td>395.0</td>\n",
       "      <td>10.908861</td>\n",
       "      <td>3.319195</td>\n",
       "      <td>3.0</td>\n",
       "      <td>8.0</td>\n",
       "      <td>11.0</td>\n",
       "      <td>13.0</td>\n",
       "      <td>19.0</td>\n",
       "    </tr>\n",
       "    <tr>\n",
       "      <td>G2</td>\n",
       "      <td>395.0</td>\n",
       "      <td>10.713924</td>\n",
       "      <td>3.761505</td>\n",
       "      <td>0.0</td>\n",
       "      <td>9.0</td>\n",
       "      <td>11.0</td>\n",
       "      <td>13.0</td>\n",
       "      <td>19.0</td>\n",
       "    </tr>\n",
       "    <tr>\n",
       "      <td>G3</td>\n",
       "      <td>395.0</td>\n",
       "      <td>10.415190</td>\n",
       "      <td>4.581443</td>\n",
       "      <td>0.0</td>\n",
       "      <td>8.0</td>\n",
       "      <td>11.0</td>\n",
       "      <td>14.0</td>\n",
       "      <td>20.0</td>\n",
       "    </tr>\n",
       "  </tbody>\n",
       "</table>\n",
       "</div>"
      ],
      "text/plain": [
       "            count       mean       std   min   25%   50%   75%   max\n",
       "age         395.0  16.696203  1.276043  15.0  16.0  17.0  18.0  22.0\n",
       "Medu        395.0   2.749367  1.094735   0.0   2.0   3.0   4.0   4.0\n",
       "Fedu        395.0   2.521519  1.088201   0.0   2.0   2.0   3.0   4.0\n",
       "traveltime  395.0   1.448101  0.697505   1.0   1.0   1.0   2.0   4.0\n",
       "studytime   395.0   2.035443  0.839240   1.0   1.0   2.0   2.0   4.0\n",
       "failures    395.0   0.334177  0.743651   0.0   0.0   0.0   0.0   3.0\n",
       "famrel      395.0   3.944304  0.896659   1.0   4.0   4.0   5.0   5.0\n",
       "freetime    395.0   3.235443  0.998862   1.0   3.0   3.0   4.0   5.0\n",
       "goout       395.0   3.108861  1.113278   1.0   2.0   3.0   4.0   5.0\n",
       "Dalc        395.0   1.481013  0.890741   1.0   1.0   1.0   2.0   5.0\n",
       "Walc        395.0   2.291139  1.287897   1.0   1.0   2.0   3.0   5.0\n",
       "health      395.0   3.554430  1.390303   1.0   3.0   4.0   5.0   5.0\n",
       "absences    395.0   5.708861  8.003096   0.0   0.0   4.0   8.0  75.0\n",
       "G1          395.0  10.908861  3.319195   3.0   8.0  11.0  13.0  19.0\n",
       "G2          395.0  10.713924  3.761505   0.0   9.0  11.0  13.0  19.0\n",
       "G3          395.0  10.415190  4.581443   0.0   8.0  11.0  14.0  20.0"
      ]
     },
     "execution_count": 10,
     "metadata": {},
     "output_type": "execute_result"
    }
   ],
   "source": [
    "df.describe().T"
   ]
  },
  {
   "cell_type": "markdown",
   "metadata": {},
   "source": [
    "<font size=4 color='#4682B4'>三个分数G1、G2、G3较为发散，但是数值太小了，我打算转换成百分数。"
   ]
  },
  {
   "cell_type": "markdown",
   "metadata": {},
   "source": [
    "<font size=4 color='#4682B4'>检查数据质量"
   ]
  },
  {
   "cell_type": "code",
   "execution_count": 13,
   "metadata": {},
   "outputs": [
    {
     "data": {
      "text/plain": [
       "school        0\n",
       "sex           0\n",
       "age           0\n",
       "address       0\n",
       "famsize       0\n",
       "Pstatus       0\n",
       "Medu          0\n",
       "Fedu          0\n",
       "Mjob          0\n",
       "Fjob          0\n",
       "reason        0\n",
       "guardian      0\n",
       "traveltime    0\n",
       "studytime     0\n",
       "failures      0\n",
       "schoolsup     0\n",
       "famsup        0\n",
       "paid          0\n",
       "activities    0\n",
       "nursery       0\n",
       "higher        0\n",
       "internet      0\n",
       "romantic      0\n",
       "famrel        0\n",
       "freetime      0\n",
       "goout         0\n",
       "Dalc          0\n",
       "Walc          0\n",
       "health        0\n",
       "absences      0\n",
       "G1            0\n",
       "G2            0\n",
       "G3            0\n",
       "dtype: int64"
      ]
     },
     "execution_count": 13,
     "metadata": {},
     "output_type": "execute_result"
    }
   ],
   "source": [
    "df.isnull().sum()"
   ]
  },
  {
   "cell_type": "markdown",
   "metadata": {},
   "source": [
    "<font size=4 color='#4682B4'>无缺失值，无需填充"
   ]
  },
  {
   "cell_type": "code",
   "execution_count": 17,
   "metadata": {},
   "outputs": [],
   "source": [
    "df.drop_duplicates(inplace=True)  # 去重"
   ]
  },
  {
   "cell_type": "code",
   "execution_count": 18,
   "metadata": {},
   "outputs": [
    {
     "data": {
      "text/plain": [
       "(395, 33)"
      ]
     },
     "execution_count": 18,
     "metadata": {},
     "output_type": "execute_result"
    }
   ],
   "source": [
    "df.shape"
   ]
  },
  {
   "cell_type": "markdown",
   "metadata": {},
   "source": [
    "<font size=4 color='#4682B4'>将分数转换为百分数"
   ]
  },
  {
   "cell_type": "code",
   "execution_count": 3,
   "metadata": {},
   "outputs": [],
   "source": [
    "df[['G1', 'G2', 'G3']] = df[['G1', 'G2', 'G3']] / 20 * 100"
   ]
  },
  {
   "cell_type": "code",
   "execution_count": 4,
   "metadata": {},
   "outputs": [],
   "source": [
    "df[['G1', 'G2', 'G3']] = round(df[['G1', 'G2', 'G3']])"
   ]
  },
  {
   "cell_type": "code",
   "execution_count": 25,
   "metadata": {},
   "outputs": [
    {
     "data": {
      "text/html": [
       "<div>\n",
       "<style scoped>\n",
       "    .dataframe tbody tr th:only-of-type {\n",
       "        vertical-align: middle;\n",
       "    }\n",
       "\n",
       "    .dataframe tbody tr th {\n",
       "        vertical-align: top;\n",
       "    }\n",
       "\n",
       "    .dataframe thead th {\n",
       "        text-align: right;\n",
       "    }\n",
       "</style>\n",
       "<table border=\"1\" class=\"dataframe\">\n",
       "  <thead>\n",
       "    <tr style=\"text-align: right;\">\n",
       "      <th></th>\n",
       "      <th>G1</th>\n",
       "      <th>G2</th>\n",
       "      <th>G3</th>\n",
       "    </tr>\n",
       "  </thead>\n",
       "  <tbody>\n",
       "    <tr>\n",
       "      <td>count</td>\n",
       "      <td>395.000000</td>\n",
       "      <td>395.000000</td>\n",
       "      <td>395.000000</td>\n",
       "    </tr>\n",
       "    <tr>\n",
       "      <td>mean</td>\n",
       "      <td>54.544304</td>\n",
       "      <td>53.569620</td>\n",
       "      <td>52.075949</td>\n",
       "    </tr>\n",
       "    <tr>\n",
       "      <td>std</td>\n",
       "      <td>16.595973</td>\n",
       "      <td>18.807523</td>\n",
       "      <td>22.907213</td>\n",
       "    </tr>\n",
       "    <tr>\n",
       "      <td>min</td>\n",
       "      <td>15.000000</td>\n",
       "      <td>0.000000</td>\n",
       "      <td>0.000000</td>\n",
       "    </tr>\n",
       "    <tr>\n",
       "      <td>25%</td>\n",
       "      <td>40.000000</td>\n",
       "      <td>45.000000</td>\n",
       "      <td>40.000000</td>\n",
       "    </tr>\n",
       "    <tr>\n",
       "      <td>50%</td>\n",
       "      <td>55.000000</td>\n",
       "      <td>55.000000</td>\n",
       "      <td>55.000000</td>\n",
       "    </tr>\n",
       "    <tr>\n",
       "      <td>75%</td>\n",
       "      <td>65.000000</td>\n",
       "      <td>65.000000</td>\n",
       "      <td>70.000000</td>\n",
       "    </tr>\n",
       "    <tr>\n",
       "      <td>max</td>\n",
       "      <td>95.000000</td>\n",
       "      <td>95.000000</td>\n",
       "      <td>100.000000</td>\n",
       "    </tr>\n",
       "  </tbody>\n",
       "</table>\n",
       "</div>"
      ],
      "text/plain": [
       "               G1          G2          G3\n",
       "count  395.000000  395.000000  395.000000\n",
       "mean    54.544304   53.569620   52.075949\n",
       "std     16.595973   18.807523   22.907213\n",
       "min     15.000000    0.000000    0.000000\n",
       "25%     40.000000   45.000000   40.000000\n",
       "50%     55.000000   55.000000   55.000000\n",
       "75%     65.000000   65.000000   70.000000\n",
       "max     95.000000   95.000000  100.000000"
      ]
     },
     "execution_count": 25,
     "metadata": {},
     "output_type": "execute_result"
    }
   ],
   "source": [
    "df[['G1', 'G2', 'G3']].describe()"
   ]
  },
  {
   "cell_type": "code",
   "execution_count": 29,
   "metadata": {},
   "outputs": [
    {
     "data": {
      "text/plain": [
       "school         object\n",
       "sex            object\n",
       "age             int64\n",
       "address        object\n",
       "famsize        object\n",
       "Pstatus        object\n",
       "Medu            int64\n",
       "Fedu            int64\n",
       "Mjob           object\n",
       "Fjob           object\n",
       "reason         object\n",
       "guardian       object\n",
       "traveltime      int64\n",
       "studytime       int64\n",
       "failures        int64\n",
       "schoolsup      object\n",
       "famsup         object\n",
       "paid           object\n",
       "activities     object\n",
       "nursery        object\n",
       "higher         object\n",
       "internet       object\n",
       "romantic       object\n",
       "famrel          int64\n",
       "freetime        int64\n",
       "goout           int64\n",
       "Dalc            int64\n",
       "Walc            int64\n",
       "health          int64\n",
       "absences        int64\n",
       "G1            float64\n",
       "G2            float64\n",
       "G3            float64\n",
       "dtype: object"
      ]
     },
     "execution_count": 29,
     "metadata": {},
     "output_type": "execute_result"
    }
   ],
   "source": [
    "df.dtypes"
   ]
  },
  {
   "cell_type": "markdown",
   "metadata": {},
   "source": [
    "<font size=4 color='#4682B4'>数据类型较为合理，暂且不作改动。其中有不少是分类变量，为了之和对分类变量进行统计，需要创建相应的哑变量，包括：Mjob、Fjob、reason和famsize"
   ]
  },
  {
   "cell_type": "code",
   "execution_count": 5,
   "metadata": {},
   "outputs": [
    {
     "data": {
      "text/plain": [
       "(395, 49)"
      ]
     },
     "execution_count": 5,
     "metadata": {},
     "output_type": "execute_result"
    }
   ],
   "source": [
    "lst = ['Mjob', 'Fjob', 'reason', 'famsize']\n",
    "for item in lst:\n",
    "    df = pd.merge(df, pd.get_dummies(df[item]), right_index=True, left_index=True)\n",
    "df.shape"
   ]
  },
  {
   "cell_type": "code",
   "execution_count": 32,
   "metadata": {},
   "outputs": [
    {
     "data": {
      "text/html": [
       "<div>\n",
       "<style scoped>\n",
       "    .dataframe tbody tr th:only-of-type {\n",
       "        vertical-align: middle;\n",
       "    }\n",
       "\n",
       "    .dataframe tbody tr th {\n",
       "        vertical-align: top;\n",
       "    }\n",
       "\n",
       "    .dataframe thead th {\n",
       "        text-align: right;\n",
       "    }\n",
       "</style>\n",
       "<table border=\"1\" class=\"dataframe\">\n",
       "  <thead>\n",
       "    <tr style=\"text-align: right;\">\n",
       "      <th></th>\n",
       "      <th>school</th>\n",
       "      <th>sex</th>\n",
       "      <th>age</th>\n",
       "      <th>address</th>\n",
       "      <th>famsize</th>\n",
       "      <th>Pstatus</th>\n",
       "      <th>Medu</th>\n",
       "      <th>Fedu</th>\n",
       "      <th>Mjob</th>\n",
       "      <th>Fjob</th>\n",
       "      <th>reason</th>\n",
       "      <th>guardian</th>\n",
       "      <th>traveltime</th>\n",
       "      <th>studytime</th>\n",
       "      <th>failures</th>\n",
       "      <th>schoolsup</th>\n",
       "      <th>famsup</th>\n",
       "      <th>paid</th>\n",
       "      <th>activities</th>\n",
       "      <th>nursery</th>\n",
       "      <th>higher</th>\n",
       "      <th>internet</th>\n",
       "      <th>romantic</th>\n",
       "      <th>famrel</th>\n",
       "      <th>freetime</th>\n",
       "      <th>goout</th>\n",
       "      <th>Dalc</th>\n",
       "      <th>Walc</th>\n",
       "      <th>health_x</th>\n",
       "      <th>absences</th>\n",
       "      <th>G1</th>\n",
       "      <th>G2</th>\n",
       "      <th>G3</th>\n",
       "      <th>at_home_x</th>\n",
       "      <th>health_y</th>\n",
       "      <th>other_x</th>\n",
       "      <th>services_x</th>\n",
       "      <th>teacher_x</th>\n",
       "      <th>at_home_y</th>\n",
       "      <th>health</th>\n",
       "      <th>other_y</th>\n",
       "      <th>services_y</th>\n",
       "      <th>teacher_y</th>\n",
       "      <th>course</th>\n",
       "      <th>home</th>\n",
       "      <th>other</th>\n",
       "      <th>reputation</th>\n",
       "      <th>GT3</th>\n",
       "      <th>LE3</th>\n",
       "    </tr>\n",
       "  </thead>\n",
       "  <tbody>\n",
       "    <tr>\n",
       "      <td>0</td>\n",
       "      <td>GP</td>\n",
       "      <td>F</td>\n",
       "      <td>18</td>\n",
       "      <td>U</td>\n",
       "      <td>GT3</td>\n",
       "      <td>A</td>\n",
       "      <td>4</td>\n",
       "      <td>4</td>\n",
       "      <td>at_home</td>\n",
       "      <td>teacher</td>\n",
       "      <td>course</td>\n",
       "      <td>mother</td>\n",
       "      <td>2</td>\n",
       "      <td>2</td>\n",
       "      <td>0</td>\n",
       "      <td>yes</td>\n",
       "      <td>no</td>\n",
       "      <td>no</td>\n",
       "      <td>no</td>\n",
       "      <td>yes</td>\n",
       "      <td>yes</td>\n",
       "      <td>no</td>\n",
       "      <td>no</td>\n",
       "      <td>4</td>\n",
       "      <td>3</td>\n",
       "      <td>4</td>\n",
       "      <td>1</td>\n",
       "      <td>1</td>\n",
       "      <td>3</td>\n",
       "      <td>6</td>\n",
       "      <td>25.0</td>\n",
       "      <td>30.0</td>\n",
       "      <td>30.0</td>\n",
       "      <td>1</td>\n",
       "      <td>0</td>\n",
       "      <td>0</td>\n",
       "      <td>0</td>\n",
       "      <td>0</td>\n",
       "      <td>0</td>\n",
       "      <td>0</td>\n",
       "      <td>0</td>\n",
       "      <td>0</td>\n",
       "      <td>1</td>\n",
       "      <td>1</td>\n",
       "      <td>0</td>\n",
       "      <td>0</td>\n",
       "      <td>0</td>\n",
       "      <td>1</td>\n",
       "      <td>0</td>\n",
       "    </tr>\n",
       "    <tr>\n",
       "      <td>1</td>\n",
       "      <td>GP</td>\n",
       "      <td>F</td>\n",
       "      <td>17</td>\n",
       "      <td>U</td>\n",
       "      <td>GT3</td>\n",
       "      <td>T</td>\n",
       "      <td>1</td>\n",
       "      <td>1</td>\n",
       "      <td>at_home</td>\n",
       "      <td>other</td>\n",
       "      <td>course</td>\n",
       "      <td>father</td>\n",
       "      <td>1</td>\n",
       "      <td>2</td>\n",
       "      <td>0</td>\n",
       "      <td>no</td>\n",
       "      <td>yes</td>\n",
       "      <td>no</td>\n",
       "      <td>no</td>\n",
       "      <td>no</td>\n",
       "      <td>yes</td>\n",
       "      <td>yes</td>\n",
       "      <td>no</td>\n",
       "      <td>5</td>\n",
       "      <td>3</td>\n",
       "      <td>3</td>\n",
       "      <td>1</td>\n",
       "      <td>1</td>\n",
       "      <td>3</td>\n",
       "      <td>4</td>\n",
       "      <td>25.0</td>\n",
       "      <td>25.0</td>\n",
       "      <td>30.0</td>\n",
       "      <td>1</td>\n",
       "      <td>0</td>\n",
       "      <td>0</td>\n",
       "      <td>0</td>\n",
       "      <td>0</td>\n",
       "      <td>0</td>\n",
       "      <td>0</td>\n",
       "      <td>1</td>\n",
       "      <td>0</td>\n",
       "      <td>0</td>\n",
       "      <td>1</td>\n",
       "      <td>0</td>\n",
       "      <td>0</td>\n",
       "      <td>0</td>\n",
       "      <td>1</td>\n",
       "      <td>0</td>\n",
       "    </tr>\n",
       "    <tr>\n",
       "      <td>2</td>\n",
       "      <td>GP</td>\n",
       "      <td>F</td>\n",
       "      <td>15</td>\n",
       "      <td>U</td>\n",
       "      <td>LE3</td>\n",
       "      <td>T</td>\n",
       "      <td>1</td>\n",
       "      <td>1</td>\n",
       "      <td>at_home</td>\n",
       "      <td>other</td>\n",
       "      <td>other</td>\n",
       "      <td>mother</td>\n",
       "      <td>1</td>\n",
       "      <td>2</td>\n",
       "      <td>3</td>\n",
       "      <td>yes</td>\n",
       "      <td>no</td>\n",
       "      <td>yes</td>\n",
       "      <td>no</td>\n",
       "      <td>yes</td>\n",
       "      <td>yes</td>\n",
       "      <td>yes</td>\n",
       "      <td>no</td>\n",
       "      <td>4</td>\n",
       "      <td>3</td>\n",
       "      <td>2</td>\n",
       "      <td>2</td>\n",
       "      <td>3</td>\n",
       "      <td>3</td>\n",
       "      <td>10</td>\n",
       "      <td>35.0</td>\n",
       "      <td>40.0</td>\n",
       "      <td>50.0</td>\n",
       "      <td>1</td>\n",
       "      <td>0</td>\n",
       "      <td>0</td>\n",
       "      <td>0</td>\n",
       "      <td>0</td>\n",
       "      <td>0</td>\n",
       "      <td>0</td>\n",
       "      <td>1</td>\n",
       "      <td>0</td>\n",
       "      <td>0</td>\n",
       "      <td>0</td>\n",
       "      <td>0</td>\n",
       "      <td>1</td>\n",
       "      <td>0</td>\n",
       "      <td>0</td>\n",
       "      <td>1</td>\n",
       "    </tr>\n",
       "    <tr>\n",
       "      <td>3</td>\n",
       "      <td>GP</td>\n",
       "      <td>F</td>\n",
       "      <td>15</td>\n",
       "      <td>U</td>\n",
       "      <td>GT3</td>\n",
       "      <td>T</td>\n",
       "      <td>4</td>\n",
       "      <td>2</td>\n",
       "      <td>health</td>\n",
       "      <td>services</td>\n",
       "      <td>home</td>\n",
       "      <td>mother</td>\n",
       "      <td>1</td>\n",
       "      <td>3</td>\n",
       "      <td>0</td>\n",
       "      <td>no</td>\n",
       "      <td>yes</td>\n",
       "      <td>yes</td>\n",
       "      <td>yes</td>\n",
       "      <td>yes</td>\n",
       "      <td>yes</td>\n",
       "      <td>yes</td>\n",
       "      <td>yes</td>\n",
       "      <td>3</td>\n",
       "      <td>2</td>\n",
       "      <td>2</td>\n",
       "      <td>1</td>\n",
       "      <td>1</td>\n",
       "      <td>5</td>\n",
       "      <td>2</td>\n",
       "      <td>75.0</td>\n",
       "      <td>70.0</td>\n",
       "      <td>75.0</td>\n",
       "      <td>0</td>\n",
       "      <td>1</td>\n",
       "      <td>0</td>\n",
       "      <td>0</td>\n",
       "      <td>0</td>\n",
       "      <td>0</td>\n",
       "      <td>0</td>\n",
       "      <td>0</td>\n",
       "      <td>1</td>\n",
       "      <td>0</td>\n",
       "      <td>0</td>\n",
       "      <td>1</td>\n",
       "      <td>0</td>\n",
       "      <td>0</td>\n",
       "      <td>1</td>\n",
       "      <td>0</td>\n",
       "    </tr>\n",
       "    <tr>\n",
       "      <td>4</td>\n",
       "      <td>GP</td>\n",
       "      <td>F</td>\n",
       "      <td>16</td>\n",
       "      <td>U</td>\n",
       "      <td>GT3</td>\n",
       "      <td>T</td>\n",
       "      <td>3</td>\n",
       "      <td>3</td>\n",
       "      <td>other</td>\n",
       "      <td>other</td>\n",
       "      <td>home</td>\n",
       "      <td>father</td>\n",
       "      <td>1</td>\n",
       "      <td>2</td>\n",
       "      <td>0</td>\n",
       "      <td>no</td>\n",
       "      <td>yes</td>\n",
       "      <td>yes</td>\n",
       "      <td>no</td>\n",
       "      <td>yes</td>\n",
       "      <td>yes</td>\n",
       "      <td>no</td>\n",
       "      <td>no</td>\n",
       "      <td>4</td>\n",
       "      <td>3</td>\n",
       "      <td>2</td>\n",
       "      <td>1</td>\n",
       "      <td>2</td>\n",
       "      <td>5</td>\n",
       "      <td>4</td>\n",
       "      <td>30.0</td>\n",
       "      <td>50.0</td>\n",
       "      <td>50.0</td>\n",
       "      <td>0</td>\n",
       "      <td>0</td>\n",
       "      <td>1</td>\n",
       "      <td>0</td>\n",
       "      <td>0</td>\n",
       "      <td>0</td>\n",
       "      <td>0</td>\n",
       "      <td>1</td>\n",
       "      <td>0</td>\n",
       "      <td>0</td>\n",
       "      <td>0</td>\n",
       "      <td>1</td>\n",
       "      <td>0</td>\n",
       "      <td>0</td>\n",
       "      <td>1</td>\n",
       "      <td>0</td>\n",
       "    </tr>\n",
       "  </tbody>\n",
       "</table>\n",
       "</div>"
      ],
      "text/plain": [
       "  school sex  age address famsize  ... home  other  reputation GT3 LE3\n",
       "0     GP   F   18       U     GT3  ...    0      0           0   1   0\n",
       "1     GP   F   17       U     GT3  ...    0      0           0   1   0\n",
       "2     GP   F   15       U     LE3  ...    0      1           0   0   1\n",
       "3     GP   F   15       U     GT3  ...    1      0           0   1   0\n",
       "4     GP   F   16       U     GT3  ...    1      0           0   1   0\n",
       "\n",
       "[5 rows x 49 columns]"
      ]
     },
     "execution_count": 32,
     "metadata": {},
     "output_type": "execute_result"
    }
   ],
   "source": [
    "df[:5]"
   ]
  },
  {
   "cell_type": "markdown",
   "metadata": {},
   "source": [
    "<font size=4 color='#4682B4'>在职业分类中后缀为x的是母亲职业，y的是父亲职业<br><br>\n",
    "    此外，因为G3成绩是G1和G2的加权平均，所以本文主要对G3进行分析。<br>将G3分数划分为3个组以生成顺序分类"
   ]
  },
  {
   "cell_type": "code",
   "execution_count": 5,
   "metadata": {},
   "outputs": [],
   "source": [
    "bins = np.linspace(min(df['G3']), max(df['G3']), 4)\n",
    "group_names = ['low', 'mid', 'high']\n",
    "df['grade_binned'] = pd.cut(df['G3'], bins, labels=group_names, include_lowest=True)"
   ]
  },
  {
   "cell_type": "code",
   "execution_count": 7,
   "metadata": {},
   "outputs": [
    {
     "data": {
      "text/plain": [
       "0       low\n",
       "1       low\n",
       "2       mid\n",
       "3      high\n",
       "4       mid\n",
       "       ... \n",
       "390     mid\n",
       "391    high\n",
       "392     mid\n",
       "393     mid\n",
       "394     mid\n",
       "Name: grade_binned, Length: 395, dtype: category\n",
       "Categories (3, object): [low < mid < high]"
      ]
     },
     "execution_count": 7,
     "metadata": {},
     "output_type": "execute_result"
    }
   ],
   "source": [
    "df.grade_binned"
   ]
  },
  {
   "cell_type": "markdown",
   "metadata": {},
   "source": [
    "<font size=4 color='#4682B4'>本文将使用R语言对数据进行线性回归分析、多元回归分析、非条件logistic相关分析、卡方检验、行均分检验、spearman秩和检验、wilcoxon秩和检验、kruskal-waillis秩和检验因此要装入相应的包"
   ]
  },
  {
   "cell_type": "code",
   "execution_count": 1,
   "metadata": {},
   "outputs": [],
   "source": [
    "df = read.csv('data/student-mat2.csv')"
   ]
  },
  {
   "cell_type": "code",
   "execution_count": 2,
   "metadata": {},
   "outputs": [
    {
     "name": "stderr",
     "output_type": "stream",
     "text": [
      "also installing the dependencies ‘gtools’, ‘gdata’\n",
      "\n",
      "Updating HTML index of packages in '.Library'\n",
      "Making 'packages.html' ... done\n",
      "also installing the dependencies ‘lmtest’, ‘qvcalc’, ‘relimp’, ‘vcd’, ‘gnm’, ‘ca’\n",
      "\n",
      "Updating HTML index of packages in '.Library'\n",
      "Making 'packages.html' ... done\n",
      "also installing the dependencies ‘TH.data’, ‘sandwich’, ‘multcomp’, ‘mvtnorm’\n",
      "\n",
      "Updating HTML index of packages in '.Library'\n",
      "Making 'packages.html' ... done\n"
     ]
    }
   ],
   "source": [
    "install.packages('gmodels')  \n",
    "install.packages('vcdExtra')\n",
    "install.packages('nparcomp')"
   ]
  },
  {
   "cell_type": "code",
   "execution_count": 1,
   "metadata": {},
   "outputs": [
    {
     "ename": "ERROR",
     "evalue": "Error in df.to_csv(\"data/student-mat2.csv\"): could not find function \"df.to_csv\"\n",
     "execution_count": 1,
     "output_type": "error",
     "traceback": [
      "Error in df.to_csv(\"data/student-mat2.csv\"): could not find function \"df.to_csv\"\nTraceback:\n"
     ]
    }
   ],
   "source": [
    "df.to_csv('data/student-mat2.csv')"
   ]
  },
  {
   "cell_type": "code",
   "execution_count": 3,
   "metadata": {},
   "outputs": [],
   "source": [
    "df2 = df\n",
    "df2$grade_binned = ifelse(df2$grade_binned == 'low', 1, ifelse(df2$grade_binned == 'mid', 2, 3))"
   ]
  },
  {
   "cell_type": "code",
   "execution_count": 3,
   "metadata": {},
   "outputs": [
    {
     "data": {
      "text/plain": [
       "\n",
       "\tShapiro-Wilk normality test\n",
       "\n",
       "data:  df$G3\n",
       "W = 0.92873, p-value = 8.836e-13\n"
      ]
     },
     "metadata": {},
     "output_type": "display_data"
    },
    {
     "data": {
      "text/plain": [
       "\n",
       "\tShapiro-Wilk normality test\n",
       "\n",
       "data:  df$failures\n",
       "W = 0.50707, p-value < 2.2e-16\n"
      ]
     },
     "metadata": {},
     "output_type": "display_data"
    },
    {
     "data": {
      "text/plain": [
       "\n",
       "\tShapiro-Wilk normality test\n",
       "\n",
       "data:  df$absences\n",
       "W = 0.66683, p-value < 2.2e-16\n"
      ]
     },
     "metadata": {},
     "output_type": "display_data"
    }
   ],
   "source": [
    "shapiro.test(df$G3)\n",
    "shapiro.test(df$failures)\n",
    "shapiro.test(df$absences)"
   ]
  },
  {
   "cell_type": "markdown",
   "metadata": {},
   "source": [
    "<font size=4 color='#4682B4'>三组数据的p值都小于0.05，皆不符合正态分布,因此采用非参数检验"
   ]
  },
  {
   "cell_type": "markdown",
   "metadata": {},
   "source": [
    "<font size=6 color='#4682B4' id='personal'>个人维度</font>"
   ]
  },
  {
   "cell_type": "markdown",
   "metadata": {},
   "source": [
    "<font size=5 color='#5CADAD' id='personal_age'>年龄</font>"
   ]
  },
  {
   "cell_type": "code",
   "execution_count": 37,
   "metadata": {},
   "outputs": [
    {
     "data": {
      "text/plain": [
       "Text(-0.8, 2.5, \"students ' age\")"
      ]
     },
     "execution_count": 37,
     "metadata": {},
     "output_type": "execute_result"
    },
    {
     "data": {
      "image/png": "[encoded data removed]",
      "text/plain": [
       "<Figure size 432x288 with 1 Axes>"
      ]
     },
     "metadata": {},
     "output_type": "display_data"
    }
   ],
   "source": [
    "df_age = df['age'].value_counts()\n",
    "counts = list(df_age.values)\n",
    "labels = list(df_age.index)\n",
    "plt.pie(counts, autopct='%2.0f%%', radius=1.5)\n",
    "plt.legend(loc='best', labels = labels, bbox_to_anchor=(1.5, 1.5))\n",
    "plt.text(-0.8, 2.5, 'students \\' age', fontsize=20)"
   ]
  },
  {
   "cell_type": "markdown",
   "metadata": {},
   "source": [
    "<font size=4 color='#4682B4'>该数据集主要由15、16、17、18岁的学生构成，分布较为均匀"
   ]
  },
  {
   "cell_type": "markdown",
   "metadata": {},
   "source": [
    "<font size=5 color='#5CADAD' id='personal_sex'>性别</font>"
   ]
  },
  {
   "cell_type": "code",
   "execution_count": 36,
   "metadata": {},
   "outputs": [
    {
     "data": {
      "text/plain": [
       "Text(-0.8, 2.5, \"students ' gender\")"
      ]
     },
     "execution_count": 36,
     "metadata": {},
     "output_type": "execute_result"
    },
    {
     "data": {
      "image/png": "[encoded data removed]",
      "text/plain": [
       "<Figure size 432x288 with 1 Axes>"
      ]
     },
     "metadata": {},
     "output_type": "display_data"
    }
   ],
   "source": [
    "df_age = df['sex'].value_counts()\n",
    "counts = list(df_age.values)\n",
    "labels = list(df_age.index)\n",
    "plt.pie(counts, autopct='%2.0f%%', radius=1.5)\n",
    "plt.legend(loc='best', labels = labels, bbox_to_anchor=(1.5, 1.5))\n",
    "plt.text(-0.8, 2.5, 'students \\' gender', fontsize=20)"
   ]
  },
  {
   "cell_type": "code",
   "execution_count": 21,
   "metadata": {},
   "outputs": [
    {
     "data": {
      "text/plain": [
       "\n",
       "\tWilcoxon rank sum test with continuity correction\n",
       "\n",
       "data:  df$G3 by df$sex\n",
       "W = 17138, p-value = 0.04065\n",
       "alternative hypothesis: true location shift is not equal to 0\n"
      ]
     },
     "metadata": {},
     "output_type": "display_data"
    }
   ],
   "source": [
    "wilcox.test(df$G3 ~ df$sex, conf.level = 0.95)"
   ]
  },
  {
   "cell_type": "code",
   "execution_count": 4,
   "metadata": {},
   "outputs": [
    {
     "name": "stdout",
     "output_type": "stream",
     "text": [
      "\n",
      " \n",
      "   Cell Contents\n",
      "|-------------------------|\n",
      "|                       N |\n",
      "| Chi-square contribution |\n",
      "|           N / Row Total |\n",
      "|           N / Col Total |\n",
      "|         N / Table Total |\n",
      "|-------------------------|\n",
      "\n",
      " \n",
      "Total Observations in Table:  395 \n",
      "\n",
      " \n",
      "             | df_temp$grade \n",
      " df_temp$sex |         1 |         2 |         3 | Row Total | \n",
      "-------------|-----------|-----------|-----------|-----------|\n",
      "           F |        40 |       122 |        46 |       208 | \n",
      "             |     1.932 |     0.012 |     0.842 |           | \n",
      "             |     0.192 |     0.587 |     0.221 |     0.527 | \n",
      "             |     0.656 |     0.521 |     0.460 |           | \n",
      "             |     0.101 |     0.309 |     0.116 |           | \n",
      "-------------|-----------|-----------|-----------|-----------|\n",
      "           M |        21 |       112 |        54 |       187 | \n",
      "             |     2.149 |     0.013 |     0.936 |           | \n",
      "             |     0.112 |     0.599 |     0.289 |     0.473 | \n",
      "             |     0.344 |     0.479 |     0.540 |           | \n",
      "             |     0.053 |     0.284 |     0.137 |           | \n",
      "-------------|-----------|-----------|-----------|-----------|\n",
      "Column Total |        61 |       234 |       100 |       395 | \n",
      "             |     0.154 |     0.592 |     0.253 |           | \n",
      "-------------|-----------|-----------|-----------|-----------|\n",
      "\n",
      " \n"
     ]
    },
    {
     "name": "stderr",
     "output_type": "stream",
     "text": [
      "Loading required package: vcd\n",
      "Loading required package: grid\n",
      "Loading required package: gnm\n"
     ]
    },
    {
     "data": {
      "text/plain": [
       "Cochran-Mantel-Haenszel Statistics for df_temp$sex by df_temp$grade \n",
       "\n",
       "                 AltHypothesis  Chisq Df     Prob\n",
       "cor        Nonzero correlation 5.3803  1 0.020365\n",
       "rmeans  Row mean scores differ 5.3803  1 0.020365\n",
       "cmeans  Col mean scores differ 5.8707  2 0.053113\n",
       "general    General association 5.8707  2 0.053113\n"
      ]
     },
     "metadata": {},
     "output_type": "display_data"
    }
   ],
   "source": [
    "library(gmodels)\n",
    "df_temp = data.frame(sex = df2$sex, grade = df2$grade_binned)\n",
    "mytable = xtabs(~df_temp$sex + df_temp$grade)\n",
    "CrossTable(df_temp$sex, df_temp$grade)\n",
    "library(vcdExtra)\n",
    "CMHtest(mytable)"
   ]
  },
  {
   "cell_type": "markdown",
   "metadata": {},
   "source": [
    "<font size=4 color='#4682B4'>样本的男女分布较均匀，结合wilcoxon检验和行均分检验可知不同性别学习者的学习成绩有显著性差异"
   ]
  },
  {
   "cell_type": "markdown",
   "metadata": {},
   "source": [
    "<font size=5 color='#5CADAD' id='personal_high'>接受高等教育的意愿</font>"
   ]
  },
  {
   "cell_type": "code",
   "execution_count": 21,
   "metadata": {},
   "outputs": [
    {
     "data": {
      "text/plain": [
       "Text(0.5, 1.0, 'the willing to get higher education')"
      ]
     },
     "execution_count": 21,
     "metadata": {},
     "output_type": "execute_result"
    },
    {
     "data": {
      "image/png": "[encoded data removed]",
      "text/plain": [
       "<Figure size 432x288 with 1 Axes>"
      ]
     },
     "metadata": {
      "needs_background": "light"
     },
     "output_type": "display_data"
    }
   ],
   "source": [
    "plt.figure()\n",
    "sns.countplot(data=df, x='higher', hue='address')\n",
    "plt.title('the willing to get higher education')"
   ]
  },
  {
   "cell_type": "markdown",
   "metadata": {},
   "source": [
    "<font size=4 color='#4682B4'>可见志愿接受高等教育的人数远大于不愿意接受高等教育的人数，样本分布不均匀无法进行有效的分析"
   ]
  },
  {
   "cell_type": "markdown",
   "metadata": {},
   "source": [
    "<font size=5 color='#5CADAD' id='personal_romantic'>情感状态</font>"
   ]
  },
  {
   "cell_type": "code",
   "execution_count": 5,
   "metadata": {},
   "outputs": [
    {
     "name": "stdout",
     "output_type": "stream",
     "text": [
      "\n",
      " \n",
      "   Cell Contents\n",
      "|-------------------------|\n",
      "|                       N |\n",
      "| Chi-square contribution |\n",
      "|           N / Row Total |\n",
      "|           N / Col Total |\n",
      "|         N / Table Total |\n",
      "|-------------------------|\n",
      "\n",
      " \n",
      "Total Observations in Table:  395 \n",
      "\n",
      " \n",
      "                 | df_temp$grade \n",
      "df_temp$romantic |         1 |         2 |         3 | Row Total | \n",
      "-----------------|-----------|-----------|-----------|-----------|\n",
      "              no |        36 |       153 |        74 |       263 | \n",
      "                 |     0.524 |     0.050 |     0.826 |           | \n",
      "                 |     0.137 |     0.582 |     0.281 |     0.666 | \n",
      "                 |     0.590 |     0.654 |     0.740 |           | \n",
      "                 |     0.091 |     0.387 |     0.187 |           | \n",
      "-----------------|-----------|-----------|-----------|-----------|\n",
      "             yes |        25 |        81 |        26 |       132 | \n",
      "                 |     1.045 |     0.100 |     1.647 |           | \n",
      "                 |     0.189 |     0.614 |     0.197 |     0.334 | \n",
      "                 |     0.410 |     0.346 |     0.260 |           | \n",
      "                 |     0.063 |     0.205 |     0.066 |           | \n",
      "-----------------|-----------|-----------|-----------|-----------|\n",
      "    Column Total |        61 |       234 |       100 |       395 | \n",
      "                 |     0.154 |     0.592 |     0.253 |           | \n",
      "-----------------|-----------|-----------|-----------|-----------|\n",
      "\n",
      " \n"
     ]
    },
    {
     "data": {
      "text/plain": [
       "Cochran-Mantel-Haenszel Statistics for df_temp$romantic by df_temp$grade \n",
       "\n",
       "                 AltHypothesis  Chisq Df     Prob\n",
       "cor        Nonzero correlation 4.1304  1 0.042119\n",
       "rmeans  Row mean scores differ 4.1304  1 0.042119\n",
       "cmeans  Col mean scores differ 4.1825  2 0.123535\n",
       "general    General association 4.1825  2 0.123535\n"
      ]
     },
     "metadata": {},
     "output_type": "display_data"
    }
   ],
   "source": [
    "library(gmodels)\n",
    "df_temp = data.frame(romantic = df2$romantic, grade = df2$grade_binned)\n",
    "mytable = xtabs(~df_temp$romantic + df_temp$grade)\n",
    "CrossTable(df_temp$romantic, df_temp$grade)\n",
    "library(vcdExtra)\n",
    "CMHtest(mytable)"
   ]
  },
  {
   "cell_type": "code",
   "execution_count": 45,
   "metadata": {},
   "outputs": [
    {
     "data": {
      "text/plain": [
       "<matplotlib.axes._subplots.AxesSubplot at 0x7f95a35368d0>"
      ]
     },
     "execution_count": 45,
     "metadata": {},
     "output_type": "execute_result"
    },
    {
     "data": {
      "image/png": "[encoded data removed]",
      "text/plain": [
       "<Figure size 432x288 with 1 Axes>"
      ]
     },
     "metadata": {
      "needs_background": "light"
     },
     "output_type": "display_data"
    }
   ],
   "source": [
    "sns.countplot(data=df, x='grade_binned', hue='romantic')"
   ]
  },
  {
   "cell_type": "markdown",
   "metadata": {},
   "source": [
    "<font size=4 color='#4682B4'>由于行均分检验的p值小于0.05，可得出结论：有亲密关系的学生与无亲密关系的学生的考试成绩有显著性差异，无亲密关系的学生在中、高档成绩中占比更大。"
   ]
  },
  {
   "cell_type": "markdown",
   "metadata": {},
   "source": [
    "<font size=5 color='#5CADAD' id='personal_stime'>学习时间</font>"
   ]
  },
  {
   "cell_type": "code",
   "execution_count": 22,
   "metadata": {},
   "outputs": [
    {
     "data": {
      "text/html": [
       "<table>\n",
       "<caption>A matrix: 2 × 2 of type dbl</caption>\n",
       "<thead>\n",
       "\t<tr><th></th><th scope=col>studytime</th><th scope=col>grade</th></tr>\n",
       "</thead>\n",
       "<tbody>\n",
       "\t<tr><th scope=row>studytime</th><td>1.000000</td><td>0.122722</td></tr>\n",
       "\t<tr><th scope=row>grade</th><td>0.122722</td><td>1.000000</td></tr>\n",
       "</tbody>\n",
       "</table>\n"
      ],
      "text/latex": [
       "A matrix: 2 × 2 of type dbl\n",
       "\\begin{tabular}{r|ll}\n",
       "  & studytime & grade\\\\\n",
       "\\hline\n",
       "\tstudytime & 1.000000 & 0.122722\\\\\n",
       "\tgrade & 0.122722 & 1.000000\\\\\n",
       "\\end{tabular}\n"
      ],
      "text/markdown": [
       "\n",
       "A matrix: 2 × 2 of type dbl\n",
       "\n",
       "| <!--/--> | studytime | grade |\n",
       "|---|---|---|\n",
       "| studytime | 1.000000 | 0.122722 |\n",
       "| grade | 0.122722 | 1.000000 |\n",
       "\n"
      ],
      "text/plain": [
       "          studytime grade   \n",
       "studytime 1.000000  0.122722\n",
       "grade     0.122722  1.000000"
      ]
     },
     "metadata": {},
     "output_type": "display_data"
    },
    {
     "data": {
      "text/plain": [
       "\n",
       "\tSpearman's rank correlation rho\n",
       "\n",
       "data:  jitter(df_temp$studytime) and jitter(df_temp$grade)\n",
       "S = 9029500, p-value = 0.01624\n",
       "alternative hypothesis: true rho is not equal to 0\n",
       "sample estimates:\n",
       "      rho \n",
       "0.1209251 \n"
      ]
     },
     "metadata": {},
     "output_type": "display_data"
    }
   ],
   "source": [
    "df_temp = data.frame(studytime = df2$studytime, grade = df2$grade_binned)\n",
    "cor(df_temp, method = 'spearman')\n",
    "cor.test(jitter(df_temp$studytime), jitter(df_temp$grade), method = 'spearman')"
   ]
  },
  {
   "cell_type": "code",
   "execution_count": 23,
   "metadata": {},
   "outputs": [
    {
     "name": "stdout",
     "output_type": "stream",
     "text": [
      "\n",
      " \n",
      "   Cell Contents\n",
      "|-------------------------|\n",
      "|                       N |\n",
      "| Chi-square contribution |\n",
      "|           N / Row Total |\n",
      "|           N / Col Total |\n",
      "|         N / Table Total |\n",
      "|-------------------------|\n",
      "\n",
      " \n",
      "Total Observations in Table:  395 \n",
      "\n",
      " \n",
      "                  | df_temp$grade \n",
      "df_temp$studytime |         1 |         2 |         3 | Row Total | \n",
      "------------------|-----------|-----------|-----------|-----------|\n",
      "                1 |        20 |        60 |        25 |       105 | \n",
      "                  |     0.883 |     0.078 |     0.094 |           | \n",
      "                  |     0.190 |     0.571 |     0.238 |     0.266 | \n",
      "                  |     0.328 |     0.256 |     0.250 |           | \n",
      "                  |     0.051 |     0.152 |     0.063 |           | \n",
      "------------------|-----------|-----------|-----------|-----------|\n",
      "                2 |        31 |       128 |        39 |       198 | \n",
      "                  |     0.006 |     0.977 |     2.470 |           | \n",
      "                  |     0.157 |     0.646 |     0.197 |     0.501 | \n",
      "                  |     0.508 |     0.547 |     0.390 |           | \n",
      "                  |     0.078 |     0.324 |     0.099 |           | \n",
      "------------------|-----------|-----------|-----------|-----------|\n",
      "                3 |         6 |        33 |        26 |        65 | \n",
      "                  |     1.624 |     0.787 |     5.536 |           | \n",
      "                  |     0.092 |     0.508 |     0.400 |     0.165 | \n",
      "                  |     0.098 |     0.141 |     0.260 |           | \n",
      "                  |     0.015 |     0.084 |     0.066 |           | \n",
      "------------------|-----------|-----------|-----------|-----------|\n",
      "                4 |         4 |        13 |        10 |        27 | \n",
      "                  |     0.007 |     0.561 |     1.465 |           | \n",
      "                  |     0.148 |     0.481 |     0.370 |     0.068 | \n",
      "                  |     0.066 |     0.056 |     0.100 |           | \n",
      "                  |     0.010 |     0.033 |     0.025 |           | \n",
      "------------------|-----------|-----------|-----------|-----------|\n",
      "     Column Total |        61 |       234 |       100 |       395 | \n",
      "                  |     0.154 |     0.592 |     0.253 |           | \n",
      "------------------|-----------|-----------|-----------|-----------|\n",
      "\n",
      " \n"
     ]
    },
    {
     "name": "stderr",
     "output_type": "stream",
     "text": [
      "Warning message in chisq.test(mytable):\n",
      "“Chi-squared approximation may be incorrect”"
     ]
    },
    {
     "data": {
      "text/plain": [
       "\n",
       "\tPearson's Chi-squared test\n",
       "\n",
       "data:  mytable\n",
       "X-squared = 14.488, df = 6, p-value = 0.02463\n"
      ]
     },
     "metadata": {},
     "output_type": "display_data"
    },
    {
     "data": {
      "text/plain": [
       "\n",
       "Call:\n",
       "lm(formula = df_temp$grade ~ df_temp$studytime)\n",
       "\n",
       "Residuals:\n",
       "     Min       1Q   Median       3Q      Max \n",
       "-1.28009 -0.18778 -0.09546  0.71991  0.99685 \n",
       "\n",
       "Coefficients:\n",
       "                  Estimate Std. Error t value Pr(>|t|)    \n",
       "(Intercept)        1.91083    0.08293   23.04   <2e-16 ***\n",
       "df_temp$studytime  0.09231    0.03767    2.45   0.0147 *  \n",
       "---\n",
       "Signif. codes:  0 ‘***’ 0.001 ‘**’ 0.01 ‘*’ 0.05 ‘.’ 0.1 ‘ ’ 1\n",
       "\n",
       "Residual standard error: 0.6276 on 393 degrees of freedom\n",
       "Multiple R-squared:  0.01505,\tAdjusted R-squared:  0.01254 \n",
       "F-statistic: 6.005 on 1 and 393 DF,  p-value: 0.0147\n"
      ]
     },
     "metadata": {},
     "output_type": "display_data"
    },
    {
     "data": {
      "text/html": [
       "<dl class=dl-horizontal>\n",
       "\t<dt>(Intercept)</dt>\n",
       "\t\t<dd>1.91083255788494</dd>\n",
       "\t<dt>df_temp$studytime</dt>\n",
       "\t\t<dd>0.0923148502928458</dd>\n",
       "</dl>\n"
      ],
      "text/latex": [
       "\\begin{description*}\n",
       "\\item[(Intercept)] 1.91083255788494\n",
       "\\item[df\\textbackslash{}\\_temp\\textbackslash{}\\$studytime] 0.0923148502928458\n",
       "\\end{description*}\n"
      ],
      "text/markdown": [
       "(Intercept)\n",
       ":   1.91083255788494df_temp$studytime\n",
       ":   0.0923148502928458\n",
       "\n"
      ],
      "text/plain": [
       "      (Intercept) df_temp$studytime \n",
       "       1.91083256        0.09231485 "
      ]
     },
     "metadata": {},
     "output_type": "display_data"
    }
   ],
   "source": [
    "library(gmodels)\n",
    "CrossTable(df_temp$studytime, df_temp$grade)\n",
    "mytable = xtabs(~df_temp$studytime + df_temp$grade)\n",
    "chisq.test(mytable)\n",
    "fit = lm(df_temp$grade ~ df_temp$studytime)\n",
    "summary(fit)\n",
    "coefficients(fit)"
   ]
  },
  {
   "cell_type": "markdown",
   "metadata": {},
   "source": [
    "<font size=4 color='#4682B4'>根据给出变量的秩相关系数的检验结果p值小于0.05，可得出结论：学习时间与学习成绩显著相关。<br>\n",
    "    根据线性趋势检验的结果，学学习时间与学习成绩有直线相关性，且为正相关"
   ]
  },
  {
   "cell_type": "code",
   "execution_count": 19,
   "metadata": {},
   "outputs": [
    {
     "data": {
      "text/plain": [
       "Text(0.5, 1.0, \"students' studytime\")"
      ]
     },
     "execution_count": 19,
     "metadata": {},
     "output_type": "execute_result"
    },
    {
     "data": {
      "image/png": "[encoded data removed]",
      "text/plain": [
       "<Figure size 432x288 with 1 Axes>"
      ]
     },
     "metadata": {
      "needs_background": "light"
     },
     "output_type": "display_data"
    }
   ],
   "source": [
    "plt.figure()\n",
    "sns.countplot(data=df, x='grade_binned', hue='studytime')\n",
    "plt.title('students\\' studytime')"
   ]
  },
  {
   "cell_type": "markdown",
   "metadata": {},
   "source": [
    "<font size=4 color='#4682B4'>从上图可知，学习时间2和3在中高分段占比较多，且学习时间1和4随着分段的上升而减小且在高分段占比最小。可知学习时间定为2、3较为合适，即每周2~10小时。"
   ]
  },
  {
   "cell_type": "markdown",
   "metadata": {},
   "source": [
    "<font size=5 color='#5CADAD' id='personal_ftime'>自由时间</font>"
   ]
  },
  {
   "cell_type": "code",
   "execution_count": 23,
   "metadata": {},
   "outputs": [
    {
     "data": {
      "text/plain": [
       "Text(0.5, 1.0, \"students' freetime\")"
      ]
     },
     "execution_count": 23,
     "metadata": {},
     "output_type": "execute_result"
    },
    {
     "data": {
      "image/png": "[encoded data removed]",
      "text/plain": [
       "<Figure size 432x288 with 1 Axes>"
      ]
     },
     "metadata": {
      "needs_background": "light"
     },
     "output_type": "display_data"
    }
   ],
   "source": [
    "plt.figure()\n",
    "sns.countplot(data=df, x='freetime', hue='address')\n",
    "plt.title('students\\' freetime')"
   ]
  },
  {
   "cell_type": "code",
   "execution_count": 24,
   "metadata": {},
   "outputs": [
    {
     "data": {
      "text/html": [
       "<table>\n",
       "<caption>A matrix: 2 × 2 of type dbl</caption>\n",
       "<thead>\n",
       "\t<tr><th></th><th scope=col>freetime</th><th scope=col>grade</th></tr>\n",
       "</thead>\n",
       "<tbody>\n",
       "\t<tr><th scope=row>freetime</th><td>1.000000000</td><td>0.009118523</td></tr>\n",
       "\t<tr><th scope=row>grade</th><td>0.009118523</td><td>1.000000000</td></tr>\n",
       "</tbody>\n",
       "</table>\n"
      ],
      "text/latex": [
       "A matrix: 2 × 2 of type dbl\n",
       "\\begin{tabular}{r|ll}\n",
       "  & freetime & grade\\\\\n",
       "\\hline\n",
       "\tfreetime & 1.000000000 & 0.009118523\\\\\n",
       "\tgrade & 0.009118523 & 1.000000000\\\\\n",
       "\\end{tabular}\n"
      ],
      "text/markdown": [
       "\n",
       "A matrix: 2 × 2 of type dbl\n",
       "\n",
       "| <!--/--> | freetime | grade |\n",
       "|---|---|---|\n",
       "| freetime | 1.000000000 | 0.009118523 |\n",
       "| grade | 0.009118523 | 1.000000000 |\n",
       "\n"
      ],
      "text/plain": [
       "         freetime    grade      \n",
       "freetime 1.000000000 0.009118523\n",
       "grade    0.009118523 1.000000000"
      ]
     },
     "metadata": {},
     "output_type": "display_data"
    },
    {
     "data": {
      "text/plain": [
       "\n",
       "\tSpearman's rank correlation rho\n",
       "\n",
       "data:  jitter(df_temp$freetime) and jitter(df_temp$grade)\n",
       "S = 10220000, p-value = 0.9206\n",
       "alternative hypothesis: true rho is not equal to 0\n",
       "sample estimates:\n",
       "        rho \n",
       "0.005031943 \n"
      ]
     },
     "metadata": {},
     "output_type": "display_data"
    }
   ],
   "source": [
    "df_temp = data.frame(freetime = df2$freetime, grade = df2$grade_binned)\n",
    "cor(df_temp, method = 'spearman')\n",
    "cor.test(jitter(df_temp$freetime), jitter(df_temp$grade), method = 'spearman')"
   ]
  },
  {
   "cell_type": "markdown",
   "metadata": {},
   "source": [
    "<font size=4 color='#4682B4'>根据给出变量的相关系数的检验结果p值大于0.05，可得出结论:自由时间与学习成绩无显著相关性"
   ]
  },
  {
   "cell_type": "markdown",
   "metadata": {},
   "source": [
    "<font size=6 color='#4682B4' id='family'>家庭维度</font>"
   ]
  },
  {
   "cell_type": "markdown",
   "metadata": {},
   "source": [
    "<font size=5 color='#5CADAD' id='family_address'>居住地</font>"
   ]
  },
  {
   "cell_type": "code",
   "execution_count": 25,
   "metadata": {},
   "outputs": [
    {
     "data": {
      "text/plain": [
       "<matplotlib.axes._subplots.AxesSubplot at 0x7f95a578e0f0>"
      ]
     },
     "execution_count": 25,
     "metadata": {},
     "output_type": "execute_result"
    },
    {
     "data": {
      "image/png": "[encoded data removed]",
      "text/plain": [
       "<Figure size 432x288 with 1 Axes>"
      ]
     },
     "metadata": {
      "needs_background": "light"
     },
     "output_type": "display_data"
    }
   ],
   "source": [
    "plt.figure()\n",
    "sns.countplot(x='address', data=df)"
   ]
  },
  {
   "cell_type": "markdown",
   "metadata": {},
   "source": [
    "<font size=4 color='#4682B4'>该数据集中大部分是城镇生源，小部分为乡村生源"
   ]
  },
  {
   "cell_type": "code",
   "execution_count": 23,
   "metadata": {},
   "outputs": [
    {
     "data": {
      "image/png": "[encoded data removed]",
      "text/plain": [
       "<Figure size 576x288 with 2 Axes>"
      ]
     },
     "metadata": {},
     "output_type": "display_data"
    }
   ],
   "source": [
    "df_U = df[df['address'] == 'U']['grade_binned'].value_counts()\n",
    "df_R = df[df['address'] == 'R']['grade_binned'].value_counts()\n",
    "\n",
    "counts_U = list(df_U.values)\n",
    "labels_U = list(df_U.index)\n",
    "counts_R = list(df_R.values)\n",
    "labels_R = list(df_R.index)\n",
    "\n",
    "plt.figure(figsize=(8, 4))\n",
    "ax = plt.subplot(1, 2, 1)\n",
    "plt.pie(counts_U, autopct='%2.0f%%', radius=1.5)\n",
    "plt.legend(loc='upper right', labels = labels_U, bbox_to_anchor=(1.6, 1.5))\n",
    "plt.text(-1, 2, 'grade in urban', fontsize=20)\n",
    "ax = plt.subplot(1, 2, 2)\n",
    "plt.pie(counts_R, autopct='%2.0f%%', radius=1.5)\n",
    "plt.legend(loc='upper right', labels = labels_R, bbox_to_anchor=(1.6, 1.5))\n",
    "plt.text(-1, 2, 'grade in rural', fontsize=20)\n",
    "plt.subplots_adjust(wspace=1)"
   ]
  },
  {
   "cell_type": "markdown",
   "metadata": {},
   "source": [
    "<font size=4 color='#4682B4'>从上图可知，在低分段上城镇生源比乡村生源少5%。<br>在中分段上城镇生源比乡村生源少9%<br>在高分段上城镇生源比乡村生源多9%。<br>可见整体上城镇生源比乡村生源的成绩要高"
   ]
  },
  {
   "cell_type": "code",
   "execution_count": 9,
   "metadata": {},
   "outputs": [
    {
     "name": "stdout",
     "output_type": "stream",
     "text": [
      "\n",
      " \n",
      "   Cell Contents\n",
      "|-------------------------|\n",
      "|                       N |\n",
      "| Chi-square contribution |\n",
      "|           N / Row Total |\n",
      "|           N / Col Total |\n",
      "|         N / Table Total |\n",
      "|-------------------------|\n",
      "\n",
      " \n",
      "Total Observations in Table:  395 \n",
      "\n",
      " \n",
      "                | df_temp$grade \n",
      "df_temp$address |         1 |         2 |         3 | Row Total | \n",
      "----------------|-----------|-----------|-----------|-----------|\n",
      "              R |        17 |        58 |        13 |        88 | \n",
      "                |     0.856 |     0.661 |     3.864 |           | \n",
      "                |     0.193 |     0.659 |     0.148 |     0.223 | \n",
      "                |     0.279 |     0.248 |     0.130 |           | \n",
      "                |     0.043 |     0.147 |     0.033 |           | \n",
      "----------------|-----------|-----------|-----------|-----------|\n",
      "              U |        44 |       176 |        87 |       307 | \n",
      "                |     0.245 |     0.189 |     1.108 |           | \n",
      "                |     0.143 |     0.573 |     0.283 |     0.777 | \n",
      "                |     0.721 |     0.752 |     0.870 |           | \n",
      "                |     0.111 |     0.446 |     0.220 |           | \n",
      "----------------|-----------|-----------|-----------|-----------|\n",
      "   Column Total |        61 |       234 |       100 |       395 | \n",
      "                |     0.154 |     0.592 |     0.253 |           | \n",
      "----------------|-----------|-----------|-----------|-----------|\n",
      "\n",
      " \n"
     ]
    },
    {
     "name": "stderr",
     "output_type": "stream",
     "text": [
      "Loading required package: vcd\n",
      "Loading required package: grid\n",
      "Loading required package: gnm\n"
     ]
    },
    {
     "data": {
      "text/plain": [
       "Cochran-Mantel-Haenszel Statistics for df_temp$address by df_temp$grade \n",
       "\n",
       "                 AltHypothesis  Chisq Df     Prob\n",
       "cor        Nonzero correlation 5.9018  1 0.015125\n",
       "rmeans  Row mean scores differ 5.9018  1 0.015125\n",
       "cmeans  Col mean scores differ 6.9054  2 0.031661\n",
       "general    General association 6.9054  2 0.031661\n"
      ]
     },
     "metadata": {},
     "output_type": "display_data"
    }
   ],
   "source": [
    "library(gmodels)\n",
    "df_temp = data.frame(address = df2$address, grade = df2$grade_binned)\n",
    "mytable = xtabs(~df_temp$address + df_temp$grade)\n",
    "CrossTable(df_temp$address, df_temp$grade)\n",
    "library(vcdExtra)\n",
    "CMHtest(mytable)"
   ]
  },
  {
   "cell_type": "markdown",
   "metadata": {},
   "source": [
    "<font size=4 color='#4682B4'>由于行均分检验的p值小于0.05，可得出结论：不同出生地在学习成绩上有显著性差异，但从交叉表看两组被试人数差距过大（乡村生源只有88个），各取88个样本重新测试"
   ]
  },
  {
   "cell_type": "code",
   "execution_count": 11,
   "metadata": {},
   "outputs": [
    {
     "name": "stdout",
     "output_type": "stream",
     "text": [
      "\n",
      " \n",
      "   Cell Contents\n",
      "|-------------------------|\n",
      "|                       N |\n",
      "| Chi-square contribution |\n",
      "|           N / Row Total |\n",
      "|           N / Col Total |\n",
      "|         N / Table Total |\n",
      "|-------------------------|\n",
      "\n",
      " \n",
      "Total Observations in Table:  176 \n",
      "\n",
      " \n",
      "              | df_88$grade \n",
      "df_88$address |         1 |         2 |         3 | Row Total | \n",
      "--------------|-----------|-----------|-----------|-----------|\n",
      "            U |        11 |        48 |        29 |        88 | \n",
      "              |     0.643 |     0.472 |     3.048 |           | \n",
      "              |     0.125 |     0.545 |     0.330 |     0.500 | \n",
      "              |     0.393 |     0.453 |     0.690 |           | \n",
      "              |     0.062 |     0.273 |     0.165 |           | \n",
      "--------------|-----------|-----------|-----------|-----------|\n",
      "            R |        17 |        58 |        13 |        88 | \n",
      "              |     0.643 |     0.472 |     3.048 |           | \n",
      "              |     0.193 |     0.659 |     0.148 |     0.500 | \n",
      "              |     0.607 |     0.547 |     0.310 |           | \n",
      "              |     0.097 |     0.330 |     0.074 |           | \n",
      "--------------|-----------|-----------|-----------|-----------|\n",
      " Column Total |        28 |       106 |        42 |       176 | \n",
      "              |     0.159 |     0.602 |     0.239 |           | \n",
      "--------------|-----------|-----------|-----------|-----------|\n",
      "\n",
      " \n"
     ]
    },
    {
     "data": {
      "text/plain": [
       "Cochran-Mantel-Haenszel Statistics for df_88$address by df_88$grade \n",
       "\n",
       "                 AltHypothesis  Chisq Df      Prob\n",
       "cor        Nonzero correlation 6.9861  1 0.0082143\n",
       "rmeans  Row mean scores differ 6.9861  1 0.0082143\n",
       "cmeans  Col mean scores differ 8.2771  2 0.0159463\n",
       "general    General association 8.2771  2 0.0159463\n"
      ]
     },
     "metadata": {},
     "output_type": "display_data"
    }
   ],
   "source": [
    "library(gmodels)\n",
    "df_u = data.frame(address = df2['address'][df['address'] == 'U'][0:88], grade = df2['grade_binned'][df['address'] == 'U'][0:88])\n",
    "df_r = data.frame(address = df2['address'][df['address'] == 'R'][0:88], grade = df2['grade_binned'][df['address'] == 'R'][0:88])\n",
    "df_88 = rbind(df_u, df_r)\n",
    "mytable = xtabs(~df_88$address + df_88$grade)\n",
    "CrossTable(df_88$address, df_88$grade)\n",
    "library(vcdExtra)\n",
    "CMHtest(mytable)"
   ]
  },
  {
   "cell_type": "markdown",
   "metadata": {},
   "source": [
    "<font size=4 color='#4682B4'>由于行均分检验的p值小于0.01，可得出结论：不同生源的学生的学习成绩有显著性差异，在高分段城镇生源的比重更大，在中分段两生源的成绩相差不大，在低分段乡村生源的占比更大"
   ]
  },
  {
   "cell_type": "markdown",
   "metadata": {},
   "source": [
    "<font size=5 color='#5CADAD' id='family_size'>家庭规模</font>"
   ]
  },
  {
   "cell_type": "code",
   "execution_count": 17,
   "metadata": {},
   "outputs": [
    {
     "data": {
      "text/plain": [
       "\n",
       "\tWilcoxon rank sum test with continuity correction\n",
       "\n",
       "data:  df$G3 by df$famsize\n",
       "W = 14670, p-value = 0.1885\n",
       "alternative hypothesis: true location shift is not equal to 0\n"
      ]
     },
     "metadata": {},
     "output_type": "display_data"
    }
   ],
   "source": [
    "wilcox.test(df$G3 ~ df$famsize, conf.level = 0.95)"
   ]
  },
  {
   "cell_type": "markdown",
   "metadata": {},
   "source": [
    "<font size=4 color='#4682B4'>根据wilcoxon检验的结果，p值大于0.05，可得出结论：家庭规模对学习成绩无显著性差异"
   ]
  },
  {
   "cell_type": "markdown",
   "metadata": {},
   "source": [
    "<font size=5 color='#5CADAD' id='family_dev'>是否离异</font>"
   ]
  },
  {
   "cell_type": "code",
   "execution_count": 27,
   "metadata": {},
   "outputs": [
    {
     "data": {
      "text/plain": [
       "<matplotlib.axes._subplots.AxesSubplot at 0x7f95a578df28>"
      ]
     },
     "execution_count": 27,
     "metadata": {},
     "output_type": "execute_result"
    },
    {
     "data": {
      "image/png": "[encoded data removed]",
      "text/plain": [
       "<Figure size 432x288 with 1 Axes>"
      ]
     },
     "metadata": {
      "needs_background": "light"
     },
     "output_type": "display_data"
    }
   ],
   "source": [
    "plt.figure()\n",
    "sns.countplot(x='Pstatus', data=df)"
   ]
  },
  {
   "cell_type": "markdown",
   "metadata": {},
   "source": [
    "<font size=4 color='#4682B4'>由于数据集中正常家庭的占比远大于单亲家庭，且单亲家庭的样本过少，无法进行有效分析"
   ]
  },
  {
   "cell_type": "markdown",
   "metadata": {},
   "source": [
    "<font size=5 color='#5CADAD' id='family_edu'>父母教育背景</font>"
   ]
  },
  {
   "cell_type": "code",
   "execution_count": 16,
   "metadata": {},
   "outputs": [
    {
     "data": {
      "text/html": [
       "<table>\n",
       "<caption>A matrix: 2 × 2 of type dbl</caption>\n",
       "<thead>\n",
       "\t<tr><th></th><th scope=col>Medu</th><th scope=col>grade</th></tr>\n",
       "</thead>\n",
       "<tbody>\n",
       "\t<tr><th scope=row>Medu</th><td>1.0000000</td><td>0.2414772</td></tr>\n",
       "\t<tr><th scope=row>grade</th><td>0.2414772</td><td>1.0000000</td></tr>\n",
       "</tbody>\n",
       "</table>\n"
      ],
      "text/latex": [
       "A matrix: 2 × 2 of type dbl\n",
       "\\begin{tabular}{r|ll}\n",
       "  & Medu & grade\\\\\n",
       "\\hline\n",
       "\tMedu & 1.0000000 & 0.2414772\\\\\n",
       "\tgrade & 0.2414772 & 1.0000000\\\\\n",
       "\\end{tabular}\n"
      ],
      "text/markdown": [
       "\n",
       "A matrix: 2 × 2 of type dbl\n",
       "\n",
       "| <!--/--> | Medu | grade |\n",
       "|---|---|---|\n",
       "| Medu | 1.0000000 | 0.2414772 |\n",
       "| grade | 0.2414772 | 1.0000000 |\n",
       "\n"
      ],
      "text/plain": [
       "      Medu      grade    \n",
       "Medu  1.0000000 0.2414772\n",
       "grade 0.2414772 1.0000000"
      ]
     },
     "metadata": {},
     "output_type": "display_data"
    },
    {
     "data": {
      "text/plain": [
       "\n",
       "\tSpearman's rank correlation rho\n",
       "\n",
       "data:  jitter(df_temp$Medu) and jitter(df_temp$grade)\n",
       "S = 8443900, p-value = 0.0003877\n",
       "alternative hypothesis: true rho is not equal to 0\n",
       "sample estimates:\n",
       "      rho \n",
       "0.1779335 \n"
      ]
     },
     "metadata": {},
     "output_type": "display_data"
    }
   ],
   "source": [
    "df_temp = data.frame(Medu = df2$Medu, grade = df2$grade_binned)\n",
    "cor(df_temp, method='spearman')\n",
    "cor.test(jitter(df_temp$Medu), jitter(df_temp$grade), method='spearman')"
   ]
  },
  {
   "cell_type": "markdown",
   "metadata": {},
   "source": [
    "<font size=4 color='#4682B4'>根据spearman秩和检验的结果，p值小于0.05，可得出结论：母亲的教育背景与孩子的学习成绩有显著相关性。接下来进行线性趋势检验。"
   ]
  },
  {
   "cell_type": "code",
   "execution_count": 18,
   "metadata": {},
   "outputs": [
    {
     "name": "stdout",
     "output_type": "stream",
     "text": [
      "\n",
      " \n",
      "   Cell Contents\n",
      "|-------------------------|\n",
      "|                       N |\n",
      "| Chi-square contribution |\n",
      "|           N / Row Total |\n",
      "|           N / Col Total |\n",
      "|         N / Table Total |\n",
      "|-------------------------|\n",
      "\n",
      " \n",
      "Total Observations in Table:  395 \n",
      "\n",
      " \n",
      "             | df_temp$grade \n",
      "df_temp$Medu |         1 |         2 |         3 | Row Total | \n",
      "-------------|-----------|-----------|-----------|-----------|\n",
      "           0 |         0 |         1 |         2 |         3 | \n",
      "             |     0.463 |     0.340 |     2.026 |           | \n",
      "             |     0.000 |     0.333 |     0.667 |     0.008 | \n",
      "             |     0.000 |     0.004 |     0.020 |           | \n",
      "             |     0.000 |     0.003 |     0.005 |           | \n",
      "-------------|-----------|-----------|-----------|-----------|\n",
      "           1 |        13 |        42 |         4 |        59 | \n",
      "             |     1.660 |     1.421 |     8.008 |           | \n",
      "             |     0.220 |     0.712 |     0.068 |     0.149 | \n",
      "             |     0.213 |     0.179 |     0.040 |           | \n",
      "             |     0.033 |     0.106 |     0.010 |           | \n",
      "-------------|-----------|-----------|-----------|-----------|\n",
      "           2 |        18 |        67 |        18 |       103 | \n",
      "             |     0.276 |     0.587 |     2.501 |           | \n",
      "             |     0.175 |     0.650 |     0.175 |     0.261 | \n",
      "             |     0.295 |     0.286 |     0.180 |           | \n",
      "             |     0.046 |     0.170 |     0.046 |           | \n",
      "-------------|-----------|-----------|-----------|-----------|\n",
      "           3 |        17 |        59 |        23 |        99 | \n",
      "             |     0.192 |     0.002 |     0.170 |           | \n",
      "             |     0.172 |     0.596 |     0.232 |     0.251 | \n",
      "             |     0.279 |     0.252 |     0.230 |           | \n",
      "             |     0.043 |     0.149 |     0.058 |           | \n",
      "-------------|-----------|-----------|-----------|-----------|\n",
      "           4 |        13 |        65 |        53 |       131 | \n",
      "             |     2.584 |     2.047 |    11.863 |           | \n",
      "             |     0.099 |     0.496 |     0.405 |     0.332 | \n",
      "             |     0.213 |     0.278 |     0.530 |           | \n",
      "             |     0.033 |     0.165 |     0.134 |           | \n",
      "-------------|-----------|-----------|-----------|-----------|\n",
      "Column Total |        61 |       234 |       100 |       395 | \n",
      "             |     0.154 |     0.592 |     0.253 |           | \n",
      "-------------|-----------|-----------|-----------|-----------|\n",
      "\n",
      " \n"
     ]
    },
    {
     "name": "stderr",
     "output_type": "stream",
     "text": [
      "Warning message in chisq.test(mytable):\n",
      "“Chi-squared approximation may be incorrect”"
     ]
    },
    {
     "data": {
      "text/plain": [
       "\n",
       "\tPearson's Chi-squared test\n",
       "\n",
       "data:  mytable\n",
       "X-squared = 34.14, df = 8, p-value = 3.832e-05\n"
      ]
     },
     "metadata": {},
     "output_type": "display_data"
    },
    {
     "data": {
      "text/plain": [
       "\n",
       "Call:\n",
       "lm(formula = df_temp$grade ~ df_temp$Medu)\n",
       "\n",
       "Residuals:\n",
       "    Min      1Q  Median      3Q     Max \n",
       "-1.2624 -0.2624 -0.0007  0.7377  1.2610 \n",
       "\n",
       "Coefficients:\n",
       "             Estimate Std. Error t value Pr(>|t|)    \n",
       "(Intercept)   1.73904    0.08386  20.738  < 2e-16 ***\n",
       "df_temp$Medu  0.13083    0.02834   4.616 5.31e-06 ***\n",
       "---\n",
       "Signif. codes:  0 ‘***’ 0.001 ‘**’ 0.01 ‘*’ 0.05 ‘.’ 0.1 ‘ ’ 1\n",
       "\n",
       "Residual standard error: 0.6159 on 393 degrees of freedom\n",
       "Multiple R-squared:  0.05143,\tAdjusted R-squared:  0.04901 \n",
       "F-statistic: 21.31 on 1 and 393 DF,  p-value: 5.308e-06\n"
      ]
     },
     "metadata": {},
     "output_type": "display_data"
    },
    {
     "data": {
      "text/html": [
       "<dl class=dl-horizontal>\n",
       "\t<dt>(Intercept)</dt>\n",
       "\t\t<dd>1.73904371789785</dd>\n",
       "\t<dt>df_temp$Medu</dt>\n",
       "\t\t<dd>0.130826640359437</dd>\n",
       "</dl>\n"
      ],
      "text/latex": [
       "\\begin{description*}\n",
       "\\item[(Intercept)] 1.73904371789785\n",
       "\\item[df\\textbackslash{}\\_temp\\textbackslash{}\\$Medu] 0.130826640359437\n",
       "\\end{description*}\n"
      ],
      "text/markdown": [
       "(Intercept)\n",
       ":   1.73904371789785df_temp$Medu\n",
       ":   0.130826640359437\n",
       "\n"
      ],
      "text/plain": [
       " (Intercept) df_temp$Medu \n",
       "   1.7390437    0.1308266 "
      ]
     },
     "metadata": {},
     "output_type": "display_data"
    }
   ],
   "source": [
    "library(gmodels)\n",
    "df_temp = data.frame(Medu = df2$Medu, grade = df2$grade_binned)\n",
    "CrossTable(df_temp$Medu, df_temp$grade)\n",
    "mytable = xtabs(~df_temp$Medu + df_temp$grade)\n",
    "chisq.test(mytable)\n",
    "fit = lm(df_temp$grade ~ df_temp$Medu)\n",
    "summary(fit)\n",
    "coefficients(fit)"
   ]
  },
  {
   "cell_type": "markdown",
   "metadata": {},
   "source": [
    "<font size=4 color='#4682B4'>根据线性趋势检验的结果，可得出结论：母亲教育背景对学习成绩有显著直线相关性，且为正相关"
   ]
  },
  {
   "cell_type": "code",
   "execution_count": 20,
   "metadata": {},
   "outputs": [
    {
     "data": {
      "text/html": [
       "<table>\n",
       "<caption>A matrix: 2 × 2 of type dbl</caption>\n",
       "<thead>\n",
       "\t<tr><th></th><th scope=col>Fedu</th><th scope=col>grade</th></tr>\n",
       "</thead>\n",
       "<tbody>\n",
       "\t<tr><th scope=row>Fedu</th><td>1.0000000</td><td>0.1466818</td></tr>\n",
       "\t<tr><th scope=row>grade</th><td>0.1466818</td><td>1.0000000</td></tr>\n",
       "</tbody>\n",
       "</table>\n"
      ],
      "text/latex": [
       "A matrix: 2 × 2 of type dbl\n",
       "\\begin{tabular}{r|ll}\n",
       "  & Fedu & grade\\\\\n",
       "\\hline\n",
       "\tFedu & 1.0000000 & 0.1466818\\\\\n",
       "\tgrade & 0.1466818 & 1.0000000\\\\\n",
       "\\end{tabular}\n"
      ],
      "text/markdown": [
       "\n",
       "A matrix: 2 × 2 of type dbl\n",
       "\n",
       "| <!--/--> | Fedu | grade |\n",
       "|---|---|---|\n",
       "| Fedu | 1.0000000 | 0.1466818 |\n",
       "| grade | 0.1466818 | 1.0000000 |\n",
       "\n"
      ],
      "text/plain": [
       "      Fedu      grade    \n",
       "Fedu  1.0000000 0.1466818\n",
       "grade 0.1466818 1.0000000"
      ]
     },
     "metadata": {},
     "output_type": "display_data"
    },
    {
     "data": {
      "text/plain": [
       "\n",
       "\tSpearman's rank correlation rho\n",
       "\n",
       "data:  jitter(df_temp$Fedu) and jitter(df_temp$grade)\n",
       "S = 9116600, p-value = 0.02548\n",
       "alternative hypothesis: true rho is not equal to 0\n",
       "sample estimates:\n",
       "      rho \n",
       "0.1124396 \n"
      ]
     },
     "metadata": {},
     "output_type": "display_data"
    }
   ],
   "source": [
    "df_temp = data.frame(Fedu = df2$Fedu, grade = df2$grade_binned)\n",
    "cor(df_temp, method='spearman')\n",
    "cor.test(jitter(df_temp$Fedu), jitter(df_temp$grade), method='spearman')"
   ]
  },
  {
   "cell_type": "markdown",
   "metadata": {},
   "source": [
    "<font size=4 color='#4682B4'>根据spearman秩和检验的结果，p值小于0.05，可得出结论：父亲的教育背景与孩子的学习成绩有显著相关性。接下来进行线性趋势检验。"
   ]
  },
  {
   "cell_type": "code",
   "execution_count": 19,
   "metadata": {},
   "outputs": [
    {
     "name": "stdout",
     "output_type": "stream",
     "text": [
      "\n",
      " \n",
      "   Cell Contents\n",
      "|-------------------------|\n",
      "|                       N |\n",
      "| Chi-square contribution |\n",
      "|           N / Row Total |\n",
      "|           N / Col Total |\n",
      "|         N / Table Total |\n",
      "|-------------------------|\n",
      "\n",
      " \n",
      "Total Observations in Table:  395 \n",
      "\n",
      " \n",
      "             | df_temp$grade \n",
      "df_temp$Fedu |         1 |         2 |         3 | Row Total | \n",
      "-------------|-----------|-----------|-----------|-----------|\n",
      "           0 |         0 |         1 |         1 |         2 | \n",
      "             |     0.309 |     0.029 |     0.481 |           | \n",
      "             |     0.000 |     0.500 |     0.500 |     0.005 | \n",
      "             |     0.000 |     0.004 |     0.010 |           | \n",
      "             |     0.000 |     0.003 |     0.003 |           | \n",
      "-------------|-----------|-----------|-----------|-----------|\n",
      "           1 |        17 |        53 |        12 |        82 | \n",
      "             |     1.485 |     0.403 |     3.696 |           | \n",
      "             |     0.207 |     0.646 |     0.146 |     0.208 | \n",
      "             |     0.279 |     0.226 |     0.120 |           | \n",
      "             |     0.043 |     0.134 |     0.030 |           | \n",
      "-------------|-----------|-----------|-----------|-----------|\n",
      "           2 |        20 |        66 |        29 |       115 | \n",
      "             |     0.283 |     0.066 |     0.000 |           | \n",
      "             |     0.174 |     0.574 |     0.252 |     0.291 | \n",
      "             |     0.328 |     0.282 |     0.290 |           | \n",
      "             |     0.051 |     0.167 |     0.073 |           | \n",
      "-------------|-----------|-----------|-----------|-----------|\n",
      "           3 |        11 |        66 |        23 |       100 | \n",
      "             |     1.278 |     0.771 |     0.212 |           | \n",
      "             |     0.110 |     0.660 |     0.230 |     0.253 | \n",
      "             |     0.180 |     0.282 |     0.230 |           | \n",
      "             |     0.028 |     0.167 |     0.058 |           | \n",
      "-------------|-----------|-----------|-----------|-----------|\n",
      "           4 |        13 |        48 |        35 |        96 | \n",
      "             |     0.225 |     1.384 |     4.707 |           | \n",
      "             |     0.135 |     0.500 |     0.365 |     0.243 | \n",
      "             |     0.213 |     0.205 |     0.350 |           | \n",
      "             |     0.033 |     0.122 |     0.089 |           | \n",
      "-------------|-----------|-----------|-----------|-----------|\n",
      "Column Total |        61 |       234 |       100 |       395 | \n",
      "             |     0.154 |     0.592 |     0.253 |           | \n",
      "-------------|-----------|-----------|-----------|-----------|\n",
      "\n",
      " \n"
     ]
    },
    {
     "name": "stderr",
     "output_type": "stream",
     "text": [
      "Warning message in chisq.test(mytable):\n",
      "“Chi-squared approximation may be incorrect”"
     ]
    },
    {
     "data": {
      "text/plain": [
       "\n",
       "\tPearson's Chi-squared test\n",
       "\n",
       "data:  mytable\n",
       "X-squared = 15.33, df = 8, p-value = 0.05304\n"
      ]
     },
     "metadata": {},
     "output_type": "display_data"
    },
    {
     "data": {
      "text/plain": [
       "\n",
       "Call:\n",
       "lm(formula = df_temp$grade ~ df_temp$Fedu)\n",
       "\n",
       "Residuals:\n",
       "     Min       1Q   Median       3Q      Max \n",
       "-1.22124 -0.22124 -0.05552  0.77876  1.11020 \n",
       "\n",
       "Coefficients:\n",
       "             Estimate Std. Error t value Pr(>|t|)    \n",
       "(Intercept)   1.88980    0.07956   23.75  < 2e-16 ***\n",
       "df_temp$Fedu  0.08286    0.02898    2.86  0.00447 ** \n",
       "---\n",
       "Signif. codes:  0 ‘***’ 0.001 ‘**’ 0.01 ‘*’ 0.05 ‘.’ 0.1 ‘ ’ 1\n",
       "\n",
       "Residual standard error: 0.6259 on 393 degrees of freedom\n",
       "Multiple R-squared:  0.02039,\tAdjusted R-squared:  0.01789 \n",
       "F-statistic: 8.178 on 1 and 393 DF,  p-value: 0.004466\n"
      ]
     },
     "metadata": {},
     "output_type": "display_data"
    },
    {
     "data": {
      "text/html": [
       "<dl class=dl-horizontal>\n",
       "\t<dt>(Intercept)</dt>\n",
       "\t\t<dd>1.88979565259857</dd>\n",
       "\t<dt>df_temp$Fedu</dt>\n",
       "\t\t<dd>0.0828621658871151</dd>\n",
       "</dl>\n"
      ],
      "text/latex": [
       "\\begin{description*}\n",
       "\\item[(Intercept)] 1.88979565259857\n",
       "\\item[df\\textbackslash{}\\_temp\\textbackslash{}\\$Fedu] 0.0828621658871151\n",
       "\\end{description*}\n"
      ],
      "text/markdown": [
       "(Intercept)\n",
       ":   1.88979565259857df_temp$Fedu\n",
       ":   0.0828621658871151\n",
       "\n"
      ],
      "text/plain": [
       " (Intercept) df_temp$Fedu \n",
       "  1.88979565   0.08286217 "
      ]
     },
     "metadata": {},
     "output_type": "display_data"
    }
   ],
   "source": [
    "library(gmodels)\n",
    "df_temp = data.frame(Fedu = df2$Fedu, grade = df2$grade_binned)\n",
    "CrossTable(df_temp$Fedu, df_temp$grade)\n",
    "mytable = xtabs(~df_temp$Fedu + df_temp$grade)\n",
    "chisq.test(mytable)\n",
    "fit = lm(df_temp$grade ~ df_temp$Fedu)\n",
    "summary(fit)\n",
    "coefficients(fit)"
   ]
  },
  {
   "cell_type": "markdown",
   "metadata": {},
   "source": [
    "<font size=4 color='#4682B4'>根据线性趋势检验的结果，可得出结论：父亲教育背景对学习成绩有显著直线相关性，且为正相关"
   ]
  },
  {
   "cell_type": "markdown",
   "metadata": {},
   "source": [
    "<font size=5 color='#5CADAD' id='family_career'>父母职业</font>"
   ]
  },
  {
   "cell_type": "code",
   "execution_count": 41,
   "metadata": {},
   "outputs": [
    {
     "data": {
      "image/png": "[encoded data removed]",
      "text/plain": [
       "<Figure size 576x288 with 2 Axes>"
      ]
     },
     "metadata": {},
     "output_type": "display_data"
    }
   ],
   "source": [
    "df_fjob = df['Fjob'].value_counts()\n",
    "df_mjob = df['Mjob'].value_counts()\n",
    "counts_f = list(df_fjob.values)\n",
    "labels_f = list(df_fjob.index)\n",
    "counts_m = list(df_mjob.values)\n",
    "labels_m = list(df_mjob.index)\n",
    "\n",
    "plt.figure(figsize=(8, 4))\n",
    "ax = plt.subplot(1, 2, 1)\n",
    "plt.pie(counts_f, autopct='%2.0f%%', radius=1.5)\n",
    "plt.legend(loc='upper right', labels = labels_f, bbox_to_anchor=(1.5, 1.5))\n",
    "plt.text(-1, 2, 'father\\'s job', fontsize=20)\n",
    "ax = plt.subplot(1, 2, 2)\n",
    "plt.pie(counts_m, autopct='%2.0f%%', radius=1.5)\n",
    "plt.legend(loc='upper right', labels = labels_m, bbox_to_anchor=(1.5, 1.5))\n",
    "plt.text(-1, 2, 'mother\\'s job', fontsize=20)\n",
    "plt.subplots_adjust(wspace=1)"
   ]
  },
  {
   "cell_type": "code",
   "execution_count": 38,
   "metadata": {},
   "outputs": [
    {
     "data": {
      "text/plain": [
       "\n",
       "\tKruskal-Wallis rank sum test\n",
       "\n",
       "data:  df$G3 by df$Fjob\n",
       "Kruskal-Wallis chi-squared = 6.2764, df = 4, p-value = 0.1794\n"
      ]
     },
     "metadata": {},
     "output_type": "display_data"
    }
   ],
   "source": [
    "kruskal.test(df$G3 ~ df$Fjob)"
   ]
  },
  {
   "cell_type": "code",
   "execution_count": 7,
   "metadata": {},
   "outputs": [
    {
     "name": "stdout",
     "output_type": "stream",
     "text": [
      "\n",
      " \n",
      "   Cell Contents\n",
      "|-------------------------|\n",
      "|                       N |\n",
      "| Chi-square contribution |\n",
      "|           N / Row Total |\n",
      "|           N / Col Total |\n",
      "|         N / Table Total |\n",
      "|-------------------------|\n",
      "\n",
      " \n",
      "Total Observations in Table:  395 \n",
      "\n",
      " \n",
      "             | df_temp$grade \n",
      "df_temp$Fjob |         1 |         2 |         3 | Row Total | \n",
      "-------------|-----------|-----------|-----------|-----------|\n",
      "     at_home |         4 |        11 |         5 |        20 | \n",
      "             |     0.269 |     0.061 |     0.001 |           | \n",
      "             |     0.200 |     0.550 |     0.250 |     0.051 | \n",
      "             |     0.066 |     0.047 |     0.050 |           | \n",
      "             |     0.010 |     0.028 |     0.013 |           | \n",
      "-------------|-----------|-----------|-----------|-----------|\n",
      "      health |         0 |        12 |         6 |        18 | \n",
      "             |     2.780 |     0.168 |     0.457 |           | \n",
      "             |     0.000 |     0.667 |     0.333 |     0.046 | \n",
      "             |     0.000 |     0.051 |     0.060 |           | \n",
      "             |     0.000 |     0.030 |     0.015 |           | \n",
      "-------------|-----------|-----------|-----------|-----------|\n",
      "       other |        37 |       132 |        48 |       217 | \n",
      "             |     0.363 |     0.092 |     0.876 |           | \n",
      "             |     0.171 |     0.608 |     0.221 |     0.549 | \n",
      "             |     0.607 |     0.564 |     0.480 |           | \n",
      "             |     0.094 |     0.334 |     0.122 |           | \n",
      "-------------|-----------|-----------|-----------|-----------|\n",
      "    services |        15 |        70 |        26 |       111 | \n",
      "             |     0.268 |     0.274 |     0.157 |           | \n",
      "             |     0.135 |     0.631 |     0.234 |     0.281 | \n",
      "             |     0.246 |     0.299 |     0.260 |           | \n",
      "             |     0.038 |     0.177 |     0.066 |           | \n",
      "-------------|-----------|-----------|-----------|-----------|\n",
      "     teacher |         5 |         9 |        15 |        29 | \n",
      "             |     0.061 |     3.895 |     7.988 |           | \n",
      "             |     0.172 |     0.310 |     0.517 |     0.073 | \n",
      "             |     0.082 |     0.038 |     0.150 |           | \n",
      "             |     0.013 |     0.023 |     0.038 |           | \n",
      "-------------|-----------|-----------|-----------|-----------|\n",
      "Column Total |        61 |       234 |       100 |       395 | \n",
      "             |     0.154 |     0.592 |     0.253 |           | \n",
      "-------------|-----------|-----------|-----------|-----------|\n",
      "\n",
      " \n"
     ]
    },
    {
     "data": {
      "text/plain": [
       "Cochran-Mantel-Haenszel Statistics for df_temp$Fjob by df_temp$grade \n",
       "\n",
       "                 AltHypothesis   Chisq Df     Prob\n",
       "cor        Nonzero correlation  1.2371  1 0.266028\n",
       "rmeans  Row mean scores differ  8.2620  4 0.082440\n",
       "cmeans  Col mean scores differ  2.6912  2 0.260384\n",
       "general    General association 17.6636  8 0.023895\n"
      ]
     },
     "metadata": {},
     "output_type": "display_data"
    }
   ],
   "source": [
    "library(gmodels)\n",
    "df_temp = data.frame(Fjob = df2$Fjob, grade = df2$grade_binned)\n",
    "mytable = xtabs(~df_temp$Fjob + df_temp$grade)\n",
    "CrossTable(df_temp$Fjob, df_temp$grade)\n",
    "library(vcdExtra)\n",
    "CMHtest(mytable)"
   ]
  },
  {
   "cell_type": "markdown",
   "metadata": {},
   "source": [
    "<font size=4 color='#4682B4'>由于Kruskal-Waillis秩和检验和行均分检验的p值都大于0.05，可得出结论：父亲职业不同的孩子的成绩无显著性差异"
   ]
  },
  {
   "cell_type": "code",
   "execution_count": 39,
   "metadata": {},
   "outputs": [
    {
     "data": {
      "text/plain": [
       "\n",
       "\tKruskal-Wallis rank sum test\n",
       "\n",
       "data:  df$G3 by df$Mjob\n",
       "Kruskal-Wallis chi-squared = 16.127, df = 4, p-value = 0.002853\n"
      ]
     },
     "metadata": {},
     "output_type": "display_data"
    },
    {
     "name": "stdout",
     "output_type": "stream",
     "text": [
      "\n",
      " #------Nonparametric Multiple Comparisons for relative contrast effects-----# \n",
      " \n",
      " - Alternative Hypothesis:  True relative contrast effect p is not equal to 1/2 \n",
      " - Type of Contrast : Tukey \n",
      " - Confidence level: 95 % \n",
      " - Method = Logit - Transformation \n",
      " - Estimation Method: Pairwise rankings \n",
      " \n",
      " #---------------------------Interpretation----------------------------------# \n",
      " p(a,b) > 1/2 : b tends to be larger than a \n",
      " #---------------------------------------------------------------------------# \n",
      " \n"
     ]
    },
    {
     "data": {
      "text/html": [
       "<table>\n",
       "<caption>A data.frame: 10 × 6</caption>\n",
       "<thead>\n",
       "\t<tr><th scope=col>Comparison</th><th scope=col>Estimator</th><th scope=col>Lower</th><th scope=col>Upper</th><th scope=col>Statistic</th><th scope=col>p.Value</th></tr>\n",
       "\t<tr><th scope=col>&lt;fct&gt;</th><th scope=col>&lt;dbl&gt;</th><th scope=col>&lt;dbl&gt;</th><th scope=col>&lt;dbl&gt;</th><th scope=col>&lt;dbl&gt;</th><th scope=col>&lt;dbl&gt;</th></tr>\n",
       "</thead>\n",
       "<tbody>\n",
       "\t<tr><td>p( at_home , health )  </td><td>0.701</td><td>0.527</td><td>0.832</td><td> 3.1124832</td><td>0.01470393</td></tr>\n",
       "\t<tr><td>p( at_home , other )   </td><td>0.544</td><td>0.422</td><td>0.660</td><td> 0.9701388</td><td>0.87309891</td></tr>\n",
       "\t<tr><td>p( at_home , services )</td><td>0.620</td><td>0.493</td><td>0.732</td><td> 2.5746062</td><td>0.07170636</td></tr>\n",
       "\t<tr><td>p( at_home , teacher ) </td><td>0.605</td><td>0.459</td><td>0.735</td><td> 1.9647205</td><td>0.27838484</td></tr>\n",
       "\t<tr><td>p( health , other )    </td><td>0.330</td><td>0.204</td><td>0.487</td><td>-2.9243828</td><td>0.02849295</td></tr>\n",
       "\t<tr><td>p( health , services ) </td><td>0.423</td><td>0.284</td><td>0.575</td><td>-1.3772682</td><td>0.64334255</td></tr>\n",
       "\t<tr><td>p( health , teacher )  </td><td>0.411</td><td>0.260</td><td>0.582</td><td>-1.4156176</td><td>0.61810412</td></tr>\n",
       "\t<tr><td>p( other , services )  </td><td>0.579</td><td>0.476</td><td>0.676</td><td> 2.0871266</td><td>0.22069142</td></tr>\n",
       "\t<tr><td>p( other , teacher )   </td><td>0.569</td><td>0.444</td><td>0.686</td><td> 1.4988646</td><td>0.56014470</td></tr>\n",
       "\t<tr><td>p( services , teacher )</td><td>0.485</td><td>0.360</td><td>0.612</td><td>-0.3108661</td><td>0.99902156</td></tr>\n",
       "</tbody>\n",
       "</table>\n"
      ],
      "text/latex": [
       "A data.frame: 10 × 6\n",
       "\\begin{tabular}{r|llllll}\n",
       " Comparison & Estimator & Lower & Upper & Statistic & p.Value\\\\\n",
       " <fct> & <dbl> & <dbl> & <dbl> & <dbl> & <dbl>\\\\\n",
       "\\hline\n",
       "\t p( at\\_home , health )   & 0.701 & 0.527 & 0.832 &  3.1124832 & 0.01470393\\\\\n",
       "\t p( at\\_home , other )    & 0.544 & 0.422 & 0.660 &  0.9701388 & 0.87309891\\\\\n",
       "\t p( at\\_home , services ) & 0.620 & 0.493 & 0.732 &  2.5746062 & 0.07170636\\\\\n",
       "\t p( at\\_home , teacher )  & 0.605 & 0.459 & 0.735 &  1.9647205 & 0.27838484\\\\\n",
       "\t p( health , other )     & 0.330 & 0.204 & 0.487 & -2.9243828 & 0.02849295\\\\\n",
       "\t p( health , services )  & 0.423 & 0.284 & 0.575 & -1.3772682 & 0.64334255\\\\\n",
       "\t p( health , teacher )   & 0.411 & 0.260 & 0.582 & -1.4156176 & 0.61810412\\\\\n",
       "\t p( other , services )   & 0.579 & 0.476 & 0.676 &  2.0871266 & 0.22069142\\\\\n",
       "\t p( other , teacher )    & 0.569 & 0.444 & 0.686 &  1.4988646 & 0.56014470\\\\\n",
       "\t p( services , teacher ) & 0.485 & 0.360 & 0.612 & -0.3108661 & 0.99902156\\\\\n",
       "\\end{tabular}\n"
      ],
      "text/markdown": [
       "\n",
       "A data.frame: 10 × 6\n",
       "\n",
       "| Comparison &lt;fct&gt; | Estimator &lt;dbl&gt; | Lower &lt;dbl&gt; | Upper &lt;dbl&gt; | Statistic &lt;dbl&gt; | p.Value &lt;dbl&gt; |\n",
       "|---|---|---|---|---|---|\n",
       "| p( at_home , health )   | 0.701 | 0.527 | 0.832 |  3.1124832 | 0.01470393 |\n",
       "| p( at_home , other )    | 0.544 | 0.422 | 0.660 |  0.9701388 | 0.87309891 |\n",
       "| p( at_home , services ) | 0.620 | 0.493 | 0.732 |  2.5746062 | 0.07170636 |\n",
       "| p( at_home , teacher )  | 0.605 | 0.459 | 0.735 |  1.9647205 | 0.27838484 |\n",
       "| p( health , other )     | 0.330 | 0.204 | 0.487 | -2.9243828 | 0.02849295 |\n",
       "| p( health , services )  | 0.423 | 0.284 | 0.575 | -1.3772682 | 0.64334255 |\n",
       "| p( health , teacher )   | 0.411 | 0.260 | 0.582 | -1.4156176 | 0.61810412 |\n",
       "| p( other , services )   | 0.579 | 0.476 | 0.676 |  2.0871266 | 0.22069142 |\n",
       "| p( other , teacher )    | 0.569 | 0.444 | 0.686 |  1.4988646 | 0.56014470 |\n",
       "| p( services , teacher ) | 0.485 | 0.360 | 0.612 | -0.3108661 | 0.99902156 |\n",
       "\n"
      ],
      "text/plain": [
       "   Comparison              Estimator Lower Upper Statistic  p.Value   \n",
       "1  p( at_home , health )   0.701     0.527 0.832  3.1124832 0.01470393\n",
       "2  p( at_home , other )    0.544     0.422 0.660  0.9701388 0.87309891\n",
       "3  p( at_home , services ) 0.620     0.493 0.732  2.5746062 0.07170636\n",
       "4  p( at_home , teacher )  0.605     0.459 0.735  1.9647205 0.27838484\n",
       "5  p( health , other )     0.330     0.204 0.487 -2.9243828 0.02849295\n",
       "6  p( health , services )  0.423     0.284 0.575 -1.3772682 0.64334255\n",
       "7  p( health , teacher )   0.411     0.260 0.582 -1.4156176 0.61810412\n",
       "8  p( other , services )   0.579     0.476 0.676  2.0871266 0.22069142\n",
       "9  p( other , teacher )    0.569     0.444 0.686  1.4988646 0.56014470\n",
       "10 p( services , teacher ) 0.485     0.360 0.612 -0.3108661 0.99902156"
      ]
     },
     "metadata": {},
     "output_type": "display_data"
    }
   ],
   "source": [
    "kruskal.test(df$G3 ~ df$Mjob)\n",
    "nparcomp(G3 ~ Mjob, data = df, alternative = 'two.sided')$Analysis"
   ]
  },
  {
   "cell_type": "markdown",
   "metadata": {},
   "source": [
    "<font size=4 color='#4682B4'>由于Kruskal-Waillis秩和检验的p值小于0.05，可得出结论：母亲的工作对学习成绩有显著性影响。<br>对不同的职业进行两两比较，可知：母亲是家庭主妇和母亲是从事医疗行业、母亲从事医疗行业和母亲是公务员的孩子的成绩有显著性差异。<br>接下来对父母职业与孩子学习成绩的相关性进行非条件logistic回归分析"
   ]
  },
  {
   "cell_type": "code",
   "execution_count": 40,
   "metadata": {},
   "outputs": [],
   "source": [
    "df$bin = 0\n",
    "df['bin'][df['G3'] > 70] = 1"
   ]
  },
  {
   "cell_type": "code",
   "execution_count": 41,
   "metadata": {},
   "outputs": [
    {
     "data": {
      "text/plain": [
       "\n",
       "Call:\n",
       "glm(formula = bin ~ at_home_x + teacher_x + health_x + services_x + \n",
       "    other_x + at_home_y + teacher_y + health_y + services_y + \n",
       "    other_y, family = binomial(), data = df)\n",
       "\n",
       "Deviance Residuals: \n",
       "    Min       1Q   Median       3Q      Max  \n",
       "-1.3494  -0.6659  -0.4852  -0.4100   2.2629  \n",
       "\n",
       "Coefficients: (1 not defined because of singularities)\n",
       "            Estimate Std. Error z value Pr(>|z|)   \n",
       "(Intercept) -0.10806    0.74467  -0.145  0.88462   \n",
       "at_home_x   -1.59767    0.58788  -2.718  0.00657 **\n",
       "teacher_x   -0.71771    0.50552  -1.420  0.15568   \n",
       "health_x    -0.15418    0.09638  -1.600  0.10965   \n",
       "services_x  -0.43543    0.44830  -0.971  0.33141   \n",
       "other_x     -1.41721    0.47272  -2.998  0.00272 **\n",
       "at_home_y    0.30379    0.83830   0.362  0.71706   \n",
       "teacher_y    1.12037    0.71749   1.562  0.11840   \n",
       "health_y          NA         NA      NA       NA   \n",
       "services_y  -0.15751    0.64780  -0.243  0.80789   \n",
       "other_y     -0.09217    0.62901  -0.147  0.88350   \n",
       "---\n",
       "Signif. codes:  0 ‘***’ 0.001 ‘**’ 0.01 ‘*’ 0.05 ‘.’ 0.1 ‘ ’ 1\n",
       "\n",
       "(Dispersion parameter for binomial family taken to be 1)\n",
       "\n",
       "    Null deviance: 378.10  on 394  degrees of freedom\n",
       "Residual deviance: 351.55  on 385  degrees of freedom\n",
       "AIC: 371.55\n",
       "\n",
       "Number of Fisher Scoring iterations: 4\n"
      ]
     },
     "metadata": {},
     "output_type": "display_data"
    },
    {
     "data": {
      "text/plain": [
       "\n",
       "Call:\n",
       "glm(formula = bin ~ 1, family = binomial(), data = df)\n",
       "\n",
       "Deviance Residuals: \n",
       "    Min       1Q   Median       3Q      Max  \n",
       "-0.6393  -0.6393  -0.6393  -0.6393   1.8376  \n",
       "\n",
       "Coefficients:\n",
       "            Estimate Std. Error z value Pr(>|z|)    \n",
       "(Intercept)  -1.4841     0.1296  -11.45   <2e-16 ***\n",
       "---\n",
       "Signif. codes:  0 ‘***’ 0.001 ‘**’ 0.01 ‘*’ 0.05 ‘.’ 0.1 ‘ ’ 1\n",
       "\n",
       "(Dispersion parameter for binomial family taken to be 1)\n",
       "\n",
       "    Null deviance: 378.1  on 394  degrees of freedom\n",
       "Residual deviance: 378.1  on 394  degrees of freedom\n",
       "AIC: 380.1\n",
       "\n",
       "Number of Fisher Scoring iterations: 4\n"
      ]
     },
     "metadata": {},
     "output_type": "display_data"
    },
    {
     "name": "stdout",
     "output_type": "stream",
     "text": [
      "Start:  AIC=380.1\n",
      "bin ~ 1\n",
      "\n",
      "             Df Deviance    AIC\n",
      "+ teacher_y   1   369.15 373.15\n",
      "+ other_x     1   370.22 374.22\n",
      "+ health_y    1   373.95 377.95\n",
      "+ services_x  1   374.08 378.08\n",
      "+ at_home_x   1   374.51 378.51\n",
      "+ other_y     1   374.69 378.69\n",
      "<none>            378.10 380.10\n",
      "+ teacher_x   1   376.74 380.74\n",
      "+ health_x    1   376.97 380.97\n",
      "+ at_home_y   1   378.07 382.07\n",
      "+ services_y  1   378.08 382.08\n",
      "\n",
      "Step:  AIC=373.15\n",
      "bin ~ teacher_y\n",
      "\n",
      "             Df Deviance    AIC\n",
      "+ other_x     1   362.59 368.59\n",
      "+ health_y    1   364.09 370.09\n",
      "+ services_x  1   365.14 371.14\n",
      "+ at_home_x   1   366.22 372.22\n",
      "<none>            369.15 373.15\n",
      "+ health_x    1   367.82 373.82\n",
      "+ other_y     1   368.34 374.34\n",
      "+ teacher_x   1   368.90 374.90\n",
      "+ services_y  1   368.94 374.94\n",
      "+ at_home_y   1   368.99 374.99\n",
      "- teacher_y   1   378.10 380.10\n",
      "\n",
      "Step:  AIC=368.59\n",
      "bin ~ teacher_y + other_x\n",
      "\n",
      "             Df Deviance    AIC\n",
      "+ at_home_x   1   356.33 364.33\n",
      "+ health_y    1   359.72 367.72\n",
      "<none>            362.59 368.59\n",
      "+ health_x    1   361.06 369.06\n",
      "+ services_x  1   361.60 369.60\n",
      "+ at_home_y   1   362.52 370.52\n",
      "+ other_y     1   362.52 370.52\n",
      "+ teacher_x   1   362.53 370.53\n",
      "+ services_y  1   362.59 370.59\n",
      "- other_x     1   369.15 373.15\n",
      "- teacher_y   1   370.22 374.22\n",
      "\n",
      "Step:  AIC=364.33\n",
      "bin ~ teacher_y + other_x + at_home_x\n",
      "\n",
      "             Df Deviance    AIC\n",
      "+ health_x    1   354.10 364.10\n",
      "<none>            356.33 364.33\n",
      "+ health_y    1   354.92 364.92\n",
      "+ teacher_x   1   355.45 365.45\n",
      "+ at_home_y   1   356.01 366.01\n",
      "+ services_y  1   356.24 366.24\n",
      "+ services_x  1   356.33 366.33\n",
      "+ other_y     1   356.33 366.33\n",
      "- at_home_x   1   362.59 368.59\n",
      "- teacher_y   1   362.66 368.66\n",
      "- other_x     1   366.22 372.22\n",
      "\n",
      "Step:  AIC=364.1\n",
      "bin ~ teacher_y + other_x + at_home_x + health_x\n",
      "\n",
      "             Df Deviance    AIC\n",
      "<none>            354.10 364.10\n",
      "- health_x    1   356.33 364.33\n",
      "+ health_y    1   352.59 364.59\n",
      "+ teacher_x   1   353.03 365.03\n",
      "+ at_home_y   1   353.75 365.75\n",
      "+ services_y  1   353.91 365.91\n",
      "+ other_y     1   354.10 366.10\n",
      "+ services_x  1   354.10 366.10\n",
      "- teacher_y   1   360.49 368.49\n",
      "- at_home_x   1   361.06 369.06\n",
      "- other_x     1   364.58 372.58\n"
     ]
    }
   ],
   "source": [
    "fullfit = glm(bin ~ at_home_x + teacher_x + health_x + services_x + other_x + at_home_y + teacher_y + health_y + services_y + other_y, family = binomial(), data=df)\n",
    "summary(fullfit)\n",
    "nothing = glm(bin ~ 1, family = binomial(), data=df)\n",
    "summary(nothing)\n",
    "bothways = step(nothing, list(lower=formula(nothing), upper=formula(fullfit)), direction = 'both')"
   ]
  },
  {
   "cell_type": "markdown",
   "metadata": {},
   "source": [
    "父亲是教师以及母亲在家或者从事医疗行业对学习成绩有显著性差异"
   ]
  },
  {
   "cell_type": "code",
   "execution_count": 42,
   "metadata": {},
   "outputs": [
    {
     "data": {
      "text/plain": [
       "\n",
       "Call:\n",
       "glm(formula = bin ~ teacher_y + other_x + at_home_x + health_x, \n",
       "    family = binomial(), data = df)\n",
       "\n",
       "Deviance Residuals: \n",
       "    Min       1Q   Median       3Q      Max  \n",
       "-1.2369  -0.6718  -0.4881  -0.4263   2.2106  \n",
       "\n",
       "Coefficients:\n",
       "            Estimate Std. Error z value Pr(>|z|)   \n",
       "(Intercept) -0.66055    0.38015  -1.738  0.08228 . \n",
       "teacher_y    1.08468    0.41490   2.614  0.00894 **\n",
       "other_x     -0.97880    0.31677  -3.090  0.00200 **\n",
       "at_home_x   -1.11688    0.46656  -2.394  0.01667 * \n",
       "health_x    -0.14265    0.09511  -1.500  0.13367   \n",
       "---\n",
       "Signif. codes:  0 ‘***’ 0.001 ‘**’ 0.01 ‘*’ 0.05 ‘.’ 0.1 ‘ ’ 1\n",
       "\n",
       "(Dispersion parameter for binomial family taken to be 1)\n",
       "\n",
       "    Null deviance: 378.1  on 394  degrees of freedom\n",
       "Residual deviance: 354.1  on 390  degrees of freedom\n",
       "AIC: 364.1\n",
       "\n",
       "Number of Fisher Scoring iterations: 4\n"
      ]
     },
     "metadata": {},
     "output_type": "display_data"
    }
   ],
   "source": [
    "fit1 = glm(bin ~ teacher_y + other_x + at_home_x + health_x, family = binomial(), data=df)\n",
    "summary(fit1)"
   ]
  },
  {
   "cell_type": "code",
   "execution_count": 43,
   "metadata": {},
   "outputs": [
    {
     "data": {
      "text/plain": [
       "\n",
       "Call:\n",
       "glm(formula = bin ~ teacher_y + other_x + at_home_x, family = binomial(), \n",
       "    data = df)\n",
       "\n",
       "Deviance Residuals: \n",
       "    Min       1Q   Median       3Q      Max  \n",
       "-1.1344  -0.7334  -0.4757  -0.4514   2.1607  \n",
       "\n",
       "Coefficients:\n",
       "            Estimate Std. Error z value Pr(>|z|)    \n",
       "(Intercept)  -1.1757     0.1755  -6.698 2.11e-11 ***\n",
       "teacher_y     1.0736     0.4122   2.604  0.00920 ** \n",
       "other_x      -0.9463     0.3148  -3.006  0.00265 ** \n",
       "at_home_x    -1.0567     0.4638  -2.278  0.02271 *  \n",
       "---\n",
       "Signif. codes:  0 ‘***’ 0.001 ‘**’ 0.01 ‘*’ 0.05 ‘.’ 0.1 ‘ ’ 1\n",
       "\n",
       "(Dispersion parameter for binomial family taken to be 1)\n",
       "\n",
       "    Null deviance: 378.10  on 394  degrees of freedom\n",
       "Residual deviance: 356.33  on 391  degrees of freedom\n",
       "AIC: 364.33\n",
       "\n",
       "Number of Fisher Scoring iterations: 4\n"
      ]
     },
     "metadata": {},
     "output_type": "display_data"
    },
    {
     "data": {
      "text/html": [
       "<dl class=dl-horizontal>\n",
       "\t<dt>(Intercept)</dt>\n",
       "\t\t<dd>-1.17565700264663</dd>\n",
       "\t<dt>teacher_y</dt>\n",
       "\t\t<dd>1.07364252617384</dd>\n",
       "\t<dt>other_x</dt>\n",
       "\t\t<dd>-0.946280305803976</dd>\n",
       "\t<dt>at_home_x</dt>\n",
       "\t\t<dd>-1.05671647205037</dd>\n",
       "</dl>\n"
      ],
      "text/latex": [
       "\\begin{description*}\n",
       "\\item[(Intercept)] -1.17565700264663\n",
       "\\item[teacher\\textbackslash{}\\_y] 1.07364252617384\n",
       "\\item[other\\textbackslash{}\\_x] -0.946280305803976\n",
       "\\item[at\\textbackslash{}\\_home\\textbackslash{}\\_x] -1.05671647205037\n",
       "\\end{description*}\n"
      ],
      "text/markdown": [
       "(Intercept)\n",
       ":   -1.17565700264663teacher_y\n",
       ":   1.07364252617384other_x\n",
       ":   -0.946280305803976at_home_x\n",
       ":   -1.05671647205037\n",
       "\n"
      ],
      "text/plain": [
       "(Intercept)   teacher_y     other_x   at_home_x \n",
       " -1.1756570   1.0736425  -0.9462803  -1.0567165 "
      ]
     },
     "metadata": {},
     "output_type": "display_data"
    },
    {
     "data": {
      "text/html": [
       "<dl class=dl-horizontal>\n",
       "\t<dt>(Intercept)</dt>\n",
       "\t\t<dd>0.308616151437681</dd>\n",
       "\t<dt>teacher_y</dt>\n",
       "\t\t<dd>2.92601821023976</dd>\n",
       "\t<dt>other_x</dt>\n",
       "\t\t<dd>0.388182260613796</dd>\n",
       "\t<dt>at_home_x</dt>\n",
       "\t\t<dd>0.34759527737877</dd>\n",
       "</dl>\n"
      ],
      "text/latex": [
       "\\begin{description*}\n",
       "\\item[(Intercept)] 0.308616151437681\n",
       "\\item[teacher\\textbackslash{}\\_y] 2.92601821023976\n",
       "\\item[other\\textbackslash{}\\_x] 0.388182260613796\n",
       "\\item[at\\textbackslash{}\\_home\\textbackslash{}\\_x] 0.34759527737877\n",
       "\\end{description*}\n"
      ],
      "text/markdown": [
       "(Intercept)\n",
       ":   0.308616151437681teacher_y\n",
       ":   2.92601821023976other_x\n",
       ":   0.388182260613796at_home_x\n",
       ":   0.34759527737877\n",
       "\n"
      ],
      "text/plain": [
       "(Intercept)   teacher_y     other_x   at_home_x \n",
       "  0.3086162   2.9260182   0.3881823   0.3475953 "
      ]
     },
     "metadata": {},
     "output_type": "display_data"
    },
    {
     "name": "stderr",
     "output_type": "stream",
     "text": [
      "Waiting for profiling to be done...\n"
     ]
    },
    {
     "data": {
      "text/html": [
       "<table>\n",
       "<caption>A matrix: 4 × 2 of type dbl</caption>\n",
       "<thead>\n",
       "\t<tr><th></th><th scope=col>2.5 %</th><th scope=col>97.5 %</th></tr>\n",
       "</thead>\n",
       "<tbody>\n",
       "\t<tr><th scope=row>(Intercept)</th><td>0.2164387</td><td>0.4313989</td></tr>\n",
       "\t<tr><th scope=row>teacher_y</th><td>1.2786015</td><td>6.5225020</td></tr>\n",
       "\t<tr><th scope=row>other_x</th><td>0.2040695</td><td>0.7061272</td></tr>\n",
       "\t<tr><th scope=row>at_home_x</th><td>0.1270485</td><td>0.8069515</td></tr>\n",
       "</tbody>\n",
       "</table>\n"
      ],
      "text/latex": [
       "A matrix: 4 × 2 of type dbl\n",
       "\\begin{tabular}{r|ll}\n",
       "  & 2.5 \\% & 97.5 \\%\\\\\n",
       "\\hline\n",
       "\t(Intercept) & 0.2164387 & 0.4313989\\\\\n",
       "\tteacher\\_y & 1.2786015 & 6.5225020\\\\\n",
       "\tother\\_x & 0.2040695 & 0.7061272\\\\\n",
       "\tat\\_home\\_x & 0.1270485 & 0.8069515\\\\\n",
       "\\end{tabular}\n"
      ],
      "text/markdown": [
       "\n",
       "A matrix: 4 × 2 of type dbl\n",
       "\n",
       "| <!--/--> | 2.5 % | 97.5 % |\n",
       "|---|---|---|\n",
       "| (Intercept) | 0.2164387 | 0.4313989 |\n",
       "| teacher_y | 1.2786015 | 6.5225020 |\n",
       "| other_x | 0.2040695 | 0.7061272 |\n",
       "| at_home_x | 0.1270485 | 0.8069515 |\n",
       "\n"
      ],
      "text/plain": [
       "            2.5 %     97.5 %   \n",
       "(Intercept) 0.2164387 0.4313989\n",
       "teacher_y   1.2786015 6.5225020\n",
       "other_x     0.2040695 0.7061272\n",
       "at_home_x   0.1270485 0.8069515"
      ]
     },
     "metadata": {},
     "output_type": "display_data"
    }
   ],
   "source": [
    "fit2 = glm(bin ~ teacher_y + other_x + at_home_x, family = binomial(), data=df)\n",
    "summary(fit2)\n",
    "coefficients(fit2)\n",
    "exp(coefficients(fit2))\n",
    "exp(confint(fit2))"
   ]
  },
  {
   "cell_type": "markdown",
   "metadata": {},
   "source": [
    "对比其他孩子，父亲是教师的孩子考高分的可能性是别的孩子的2.9倍，母亲在家或者从事公务员的工作的孩子考高分的可能性是别的孩子的0.388倍和0.348倍"
   ]
  },
  {
   "cell_type": "markdown",
   "metadata": {},
   "source": [
    "<font size=4 color='#4682B4'>对于父母的职业，可看出：消去其他因素影响后，父亲是教师的孩子考70以上是父亲非教师的2.92倍，家庭主妇家的孩子考70分以上是母亲工作的0.35倍<br>"
   ]
  },
  {
   "cell_type": "markdown",
   "metadata": {},
   "source": [
    "<font size=5 color='#5CADAD' id='family_sup'>家庭辅导</font>"
   ]
  },
  {
   "cell_type": "code",
   "execution_count": 47,
   "metadata": {},
   "outputs": [
    {
     "data": {
      "text/plain": [
       "<matplotlib.axes._subplots.AxesSubplot at 0x7f95a34815f8>"
      ]
     },
     "execution_count": 47,
     "metadata": {},
     "output_type": "execute_result"
    },
    {
     "data": {
      "image/png": "[encoded data removed]",
      "text/plain": [
       "<Figure size 432x288 with 1 Axes>"
      ]
     },
     "metadata": {
      "needs_background": "light"
     },
     "output_type": "display_data"
    }
   ],
   "source": [
    "sns.countplot(data=df, x='grade_binned', hue='famsup')"
   ]
  },
  {
   "cell_type": "code",
   "execution_count": 8,
   "metadata": {},
   "outputs": [
    {
     "name": "stdout",
     "output_type": "stream",
     "text": [
      "\n",
      " \n",
      "   Cell Contents\n",
      "|-------------------------|\n",
      "|                       N |\n",
      "| Chi-square contribution |\n",
      "|           N / Row Total |\n",
      "|           N / Col Total |\n",
      "|         N / Table Total |\n",
      "|-------------------------|\n",
      "\n",
      " \n",
      "Total Observations in Table:  395 \n",
      "\n",
      " \n",
      "               | df_temp$grade \n",
      "df_temp$famsup |         1 |         2 |         3 | Row Total | \n",
      "---------------|-----------|-----------|-----------|-----------|\n",
      "            no |        20 |        93 |        40 |       153 | \n",
      "               |     0.557 |     0.062 |     0.041 |           | \n",
      "               |     0.131 |     0.608 |     0.261 |     0.387 | \n",
      "               |     0.328 |     0.397 |     0.400 |           | \n",
      "               |     0.051 |     0.235 |     0.101 |           | \n",
      "---------------|-----------|-----------|-----------|-----------|\n",
      "           yes |        41 |       141 |        60 |       242 | \n",
      "               |     0.352 |     0.039 |     0.026 |           | \n",
      "               |     0.169 |     0.583 |     0.248 |     0.613 | \n",
      "               |     0.672 |     0.603 |     0.600 |           | \n",
      "               |     0.104 |     0.357 |     0.152 |           | \n",
      "---------------|-----------|-----------|-----------|-----------|\n",
      "  Column Total |        61 |       234 |       100 |       395 | \n",
      "               |     0.154 |     0.592 |     0.253 |           | \n",
      "---------------|-----------|-----------|-----------|-----------|\n",
      "\n",
      " \n"
     ]
    },
    {
     "data": {
      "text/plain": [
       "Cochran-Mantel-Haenszel Statistics for df_temp$famsup by df_temp$grade \n",
       "\n",
       "                 AltHypothesis   Chisq Df    Prob\n",
       "cor        Nonzero correlation 0.64054  1 0.42352\n",
       "rmeans  Row mean scores differ 0.64054  1 0.42352\n",
       "cmeans  Col mean scores differ 1.07446  2 0.58437\n",
       "general    General association 1.07446  2 0.58437\n"
      ]
     },
     "metadata": {},
     "output_type": "display_data"
    }
   ],
   "source": [
    "library(gmodels)\n",
    "df_temp = data.frame(famsup = df2$famsup, grade = df2$grade_binned)\n",
    "mytable = xtabs(~df_temp$famsup + df_temp$grade)\n",
    "CrossTable(df_temp$famsup, df_temp$grade)\n",
    "library(vcdExtra)\n",
    "CMHtest(mytable)"
   ]
  },
  {
   "cell_type": "markdown",
   "metadata": {},
   "source": [
    "<font size=4 color='#4682B4'>根据行均分的检验结果，p值大于0.05， 可得出结论：得到家庭辅导的学生与未得家庭辅导的学生的成绩无显著性差异，但是从交叉表可看出，未得到家庭辅导的学生人数远小于得到家庭辅导的学生人数，因此各截取153个样本再次进行行均分检验"
   ]
  },
  {
   "cell_type": "code",
   "execution_count": 12,
   "metadata": {},
   "outputs": [
    {
     "name": "stdout",
     "output_type": "stream",
     "text": [
      "\n",
      " \n",
      "   Cell Contents\n",
      "|-------------------------|\n",
      "|                       N |\n",
      "| Chi-square contribution |\n",
      "|           N / Row Total |\n",
      "|           N / Col Total |\n",
      "|         N / Table Total |\n",
      "|-------------------------|\n",
      "\n",
      " \n",
      "Total Observations in Table:  306 \n",
      "\n",
      " \n",
      "             | df_88$grade \n",
      "df_88$famsup |         1 |         2 |         3 | Row Total | \n",
      "-------------|-----------|-----------|-----------|-----------|\n",
      "         yes |        29 |        85 |        39 |       153 | \n",
      "             |     0.827 |     0.180 |     0.006 |           | \n",
      "             |     0.190 |     0.556 |     0.255 |     0.500 | \n",
      "             |     0.592 |     0.478 |     0.494 |           | \n",
      "             |     0.095 |     0.278 |     0.127 |           | \n",
      "-------------|-----------|-----------|-----------|-----------|\n",
      "          no |        20 |        93 |        40 |       153 | \n",
      "             |     0.827 |     0.180 |     0.006 |           | \n",
      "             |     0.131 |     0.608 |     0.261 |     0.500 | \n",
      "             |     0.408 |     0.522 |     0.506 |           | \n",
      "             |     0.065 |     0.304 |     0.131 |           | \n",
      "-------------|-----------|-----------|-----------|-----------|\n",
      "Column Total |        49 |       178 |        79 |       306 | \n",
      "             |     0.160 |     0.582 |     0.258 |           | \n",
      "-------------|-----------|-----------|-----------|-----------|\n",
      "\n",
      " \n"
     ]
    },
    {
     "data": {
      "text/plain": [
       "Cochran-Mantel-Haenszel Statistics for df_88$famsup by df_88$grade \n",
       "\n",
       "                 AltHypothesis   Chisq Df    Prob\n",
       "cor        Nonzero correlation 0.79701  1 0.37199\n",
       "rmeans  Row mean scores differ 0.79701  1 0.37199\n",
       "cmeans  Col mean scores differ 2.01865  2 0.36446\n",
       "general    General association 2.01865  2 0.36446\n"
      ]
     },
     "metadata": {},
     "output_type": "display_data"
    }
   ],
   "source": [
    "library(gmodels)\n",
    "df_u = data.frame(famsup = df2['famsup'][df['famsup'] == 'yes'][0:153], grade = df2['grade_binned'][df['famsup'] == 'yes'][0:153])\n",
    "df_r = data.frame(famsup = df2['famsup'][df['famsup'] == 'no'][0:153], grade = df2['grade_binned'][df['famsup'] == 'no'][0:153])\n",
    "df_88 = rbind(df_u, df_r)\n",
    "mytable = xtabs(~df_88$famsup + df_88$grade)\n",
    "CrossTable(df_88$famsup, df_88$grade)\n",
    "library(vcdExtra)\n",
    "CMHtest(mytable)"
   ]
  },
  {
   "cell_type": "markdown",
   "metadata": {},
   "source": [
    "<font size=4 color='#4682B4'>根据行均分的检验结果，p值大于0.05， 可得出结论：得到家庭辅导的学生与未得家庭辅导的学生的成绩无显著性差异。"
   ]
  },
  {
   "cell_type": "code",
   "execution_count": 4,
   "metadata": {},
   "outputs": [],
   "source": [
    "df2 = df\n",
    "df2$grade_binned = ifelse(df2$grade_binned == 'low', 1, ifelse(df2$grade_binned == 'mid', 2, 3))"
   ]
  },
  {
   "cell_type": "markdown",
   "metadata": {},
   "source": [
    "<font size=5 color='#5CADAD' id='family_paid'>课外辅导</font>"
   ]
  },
  {
   "cell_type": "code",
   "execution_count": 14,
   "metadata": {},
   "outputs": [
    {
     "data": {
      "text/plain": [
       "\n",
       "\tWilcoxon rank sum test with continuity correction\n",
       "\n",
       "data:  df$G3 by df$paid\n",
       "W = 18006, p-value = 0.2267\n",
       "alternative hypothesis: true location shift is not equal to 0\n"
      ]
     },
     "metadata": {},
     "output_type": "display_data"
    }
   ],
   "source": [
    "wilcox.test(df$G3 ~ df$paid, conf.level = 0.95)"
   ]
  },
  {
   "cell_type": "markdown",
   "metadata": {},
   "source": [
    "<font size=4 color='#4682B4'>根据wilconon检验的结果，p值大于0.05，接受课外辅导的学生与未接受课外辅导的学生的成绩无显著性差异"
   ]
  },
  {
   "cell_type": "markdown",
   "metadata": {},
   "source": [
    "<font size=5 color='#5CADAD' id='internet'>网络环境</font>"
   ]
  },
  {
   "cell_type": "code",
   "execution_count": 42,
   "metadata": {},
   "outputs": [
    {
     "data": {
      "text/plain": [
       "<matplotlib.axes._subplots.AxesSubplot at 0x7f95a3666940>"
      ]
     },
     "execution_count": 42,
     "metadata": {},
     "output_type": "execute_result"
    },
    {
     "data": {
      "image/png": "[encoded data removed]",
      "text/plain": [
       "<Figure size 432x288 with 1 Axes>"
      ]
     },
     "metadata": {
      "needs_background": "light"
     },
     "output_type": "display_data"
    }
   ],
   "source": [
    "sns.countplot(data=df, x='grade_binned', hue='internet')"
   ]
  },
  {
   "cell_type": "markdown",
   "metadata": {},
   "source": [
    "<font size=4 color='#4682B4'>由于家里无网络环境的学生人数远少于有网络环境的学生人数，因此各选取60个样本进行行均分检验"
   ]
  },
  {
   "cell_type": "code",
   "execution_count": 18,
   "metadata": {},
   "outputs": [
    {
     "name": "stdout",
     "output_type": "stream",
     "text": [
      "\n",
      " \n",
      "   Cell Contents\n",
      "|-------------------------|\n",
      "|                       N |\n",
      "| Chi-square contribution |\n",
      "|           N / Row Total |\n",
      "|           N / Col Total |\n",
      "|         N / Table Total |\n",
      "|-------------------------|\n",
      "\n",
      " \n",
      "Total Observations in Table:  120 \n",
      "\n",
      " \n",
      "               | df_88$grade \n",
      "df_88$internet |         1 |         2 |         3 | Row Total | \n",
      "---------------|-----------|-----------|-----------|-----------|\n",
      "           yes |         4 |        33 |        23 |        60 | \n",
      "               |     1.633 |     0.250 |     2.561 |           | \n",
      "               |     0.067 |     0.550 |     0.383 |     0.500 | \n",
      "               |     0.267 |     0.458 |     0.697 |           | \n",
      "               |     0.033 |     0.275 |     0.192 |           | \n",
      "---------------|-----------|-----------|-----------|-----------|\n",
      "            no |        11 |        39 |        10 |        60 | \n",
      "               |     1.633 |     0.250 |     2.561 |           | \n",
      "               |     0.183 |     0.650 |     0.167 |     0.500 | \n",
      "               |     0.733 |     0.542 |     0.303 |           | \n",
      "               |     0.092 |     0.325 |     0.083 |           | \n",
      "---------------|-----------|-----------|-----------|-----------|\n",
      "  Column Total |        15 |        72 |        33 |       120 | \n",
      "               |     0.125 |     0.600 |     0.275 |           | \n",
      "---------------|-----------|-----------|-----------|-----------|\n",
      "\n",
      " \n"
     ]
    },
    {
     "data": {
      "text/plain": [
       "Cochran-Mantel-Haenszel Statistics for df_88$internet by df_88$grade \n",
       "\n",
       "                 AltHypothesis  Chisq Df      Prob\n",
       "cor        Nonzero correlation 8.7564  1 0.0030851\n",
       "rmeans  Row mean scores differ 8.7564  1 0.0030851\n",
       "cmeans  Col mean scores differ 8.8138  2 0.0121928\n",
       "general    General association 8.8138  2 0.0121928\n"
      ]
     },
     "metadata": {},
     "output_type": "display_data"
    }
   ],
   "source": [
    "library(gmodels)\n",
    "df_u = data.frame(internet = df2['internet'][df['internet'] == 'yes'][0:60], grade = df2['grade_binned'][df['internet'] == 'yes'][0:60])\n",
    "df_r = data.frame(internet = df2['internet'][df['internet'] == 'no'][0:60], grade = df2['grade_binned'][df['internet'] == 'no'][0:60])\n",
    "df_88 = rbind(df_u, df_r)\n",
    "mytable = xtabs(~df_88$internet + df_88$grade)\n",
    "CrossTable(df_88$internet, df_88$grade)\n",
    "library(vcdExtra)\n",
    "CMHtest(mytable)"
   ]
  },
  {
   "cell_type": "markdown",
   "metadata": {},
   "source": [
    "<font size=4 color='#4682B4'>根据行均分检验的结果，p值小于0.05，可得出结论：有网络环境的学生与没网络环境的学生的学习成绩有显著性差异。在高分段家中有网络环境的学生比重较大，在低分段家中无网络环境的学生比重较大"
   ]
  },
  {
   "cell_type": "markdown",
   "metadata": {},
   "source": [
    "<font size=6 color='#4682B4'>学校维度"
   ]
  },
  {
   "cell_type": "markdown",
   "metadata": {},
   "source": [
    "<font size=5 color='#5CADAD' id='sc_school'>学校之间</font>"
   ]
  },
  {
   "cell_type": "code",
   "execution_count": 25,
   "metadata": {},
   "outputs": [
    {
     "data": {
      "text/plain": [
       "<matplotlib.axes._subplots.AxesSubplot at 0x7f1f4dad6e48>"
      ]
     },
     "execution_count": 25,
     "metadata": {},
     "output_type": "execute_result"
    },
    {
     "data": {
      "image/png": "[encoded data removed]",
      "text/plain": [
       "<Figure size 432x288 with 1 Axes>"
      ]
     },
     "metadata": {
      "needs_background": "light"
     },
     "output_type": "display_data"
    }
   ],
   "source": [
    "sns.countplot(data=df, x='school')"
   ]
  },
  {
   "cell_type": "markdown",
   "metadata": {},
   "source": [
    "<font size=4 color='#4682B4'>从上图可知来自MS的样本数远少于来自GP的样本，因此采用各校在成绩分类的占比来分析学校的成绩水平"
   ]
  },
  {
   "cell_type": "code",
   "execution_count": 11,
   "metadata": {},
   "outputs": [
    {
     "data": {
      "image/png": "[encoded data removed]",
      "text/plain": [
       "<Figure size 576x288 with 2 Axes>"
      ]
     },
     "metadata": {},
     "output_type": "display_data"
    }
   ],
   "source": [
    "df_MS = df[df['school'] == 'MS']['grade_binned'].value_counts()\n",
    "df_GP = df[df['school'] == 'GP']['grade_binned'].value_counts()\n",
    "\n",
    "counts_MS = list(df_MS.values)\n",
    "labels_MS = list(df_MS.index)\n",
    "counts_GP = list(df_GP.values)\n",
    "labels_GP = list(df_GP.index)\n",
    "\n",
    "plt.figure(figsize=(8, 4))\n",
    "ax = plt.subplot(1, 2, 1)\n",
    "plt.pie(counts_MS, autopct='%2.0f%%', radius=1.5)\n",
    "plt.legend(loc='upper right', labels = labels_MS, bbox_to_anchor=(1.5, 1.5))\n",
    "plt.text(-1, 2, 'grade in MS', fontsize=20)\n",
    "ax = plt.subplot(1, 2, 2)\n",
    "plt.pie(counts_GP, autopct='%2.0f%%', radius=1.5)\n",
    "plt.legend(loc='upper right', labels = labels_GP, bbox_to_anchor=(1.5, 1.5))\n",
    "plt.text(-1, 2, 'grade in GP', fontsize=20)\n",
    "plt.subplots_adjust(wspace=1)"
   ]
  },
  {
   "cell_type": "markdown",
   "metadata": {},
   "source": [
    "<font size=4 color='#4682B4'>从上图可知，两校在分成绩分类的占比上不一样。在低分段两校占比相同，但在高分段上GP比MS高出了12%，可见从分数上来说，GP的教学效果较MS要好"
   ]
  },
  {
   "cell_type": "code",
   "execution_count": 26,
   "metadata": {},
   "outputs": [
    {
     "data": {
      "text/plain": [
       "Text(0.5, 1.0, 'Composition of students in two school')"
      ]
     },
     "execution_count": 26,
     "metadata": {},
     "output_type": "execute_result"
    },
    {
     "data": {
      "image/png": "[encoded data removed]",
      "text/plain": [
       "<Figure size 432x288 with 1 Axes>"
      ]
     },
     "metadata": {
      "needs_background": "light"
     },
     "output_type": "display_data"
    }
   ],
   "source": [
    "plt.figure()\n",
    "sns.countplot(data=df, x='school', hue='address')\n",
    "plt.title('Composition of students in two school')"
   ]
  },
  {
   "cell_type": "markdown",
   "metadata": {},
   "source": [
    "<font size=4 color='#4682B4'>从上图可知，在GP学校，城镇生源的学生人数远大于乡村生源，可推断该学校位于城镇。<br>在MS学校，城镇生源的人数小于乡村生源人数，可推断该学校位于乡村"
   ]
  },
  {
   "cell_type": "markdown",
   "metadata": {},
   "source": [
    "<font size=5 color='#5CADAD' id='sc_sup'>学校辅导</font>"
   ]
  },
  {
   "cell_type": "code",
   "execution_count": 44,
   "metadata": {},
   "outputs": [
    {
     "data": {
      "text/plain": [
       "<matplotlib.axes._subplots.AxesSubplot at 0x7f95a35d9c50>"
      ]
     },
     "execution_count": 44,
     "metadata": {},
     "output_type": "execute_result"
    },
    {
     "data": {
      "image/png": "[encoded data removed]",
      "text/plain": [
       "<Figure size 432x288 with 1 Axes>"
      ]
     },
     "metadata": {
      "needs_background": "light"
     },
     "output_type": "display_data"
    }
   ],
   "source": [
    "sns.countplot(data=df, x='grade_binned', hue='schoolsup')"
   ]
  },
  {
   "cell_type": "code",
   "execution_count": 6,
   "metadata": {},
   "outputs": [
    {
     "data": {
      "text/plain": [
       "\n",
       "\tWilcoxon rank sum test with continuity correction\n",
       "\n",
       "data:  df$G3 by df$schoolsup\n",
       "W = 11037, p-value = 0.002802\n",
       "alternative hypothesis: true location shift is not equal to 0\n"
      ]
     },
     "metadata": {},
     "output_type": "display_data"
    }
   ],
   "source": [
    "wilcox.test(df$G3 ~ df$schoolsup, conf.level = 0.95)"
   ]
  },
  {
   "cell_type": "markdown",
   "metadata": {},
   "source": [
    "<font size=4 color='#4682B4'>根据wilcoxon检验的结果，p值小于0.05，可得出结论：学校辅导对学习成绩有显著性差异"
   ]
  },
  {
   "cell_type": "code",
   "execution_count": 35,
   "metadata": {},
   "outputs": [
    {
     "data": {
      "image/png": "[encoded data removed]",
      "text/plain": [
       "<Figure size 576x288 with 2 Axes>"
      ]
     },
     "metadata": {},
     "output_type": "display_data"
    }
   ],
   "source": [
    "df_MS = df[df['school'] == 'MS']['schoolsup'].value_counts()\n",
    "df_GP = df[df['school'] == 'GP']['schoolsup'].value_counts()\n",
    "\n",
    "counts_MS = list(df_MS.values)\n",
    "labels_MS = list(df_MS.index)\n",
    "counts_GP = list(df_GP.values)\n",
    "labels_GP = list(df_GP.index)\n",
    "\n",
    "plt.figure(figsize=(8, 4))\n",
    "ax = plt.subplot(1, 2, 1)\n",
    "plt.pie(counts_MS, autopct='%2.0f%%', radius=1.5)\n",
    "plt.legend(loc='upper right', labels = labels_MS, bbox_to_anchor=(1.5, 1.0))\n",
    "plt.text(-1.7, 2, 'school support in MS', fontsize=20)\n",
    "ax = plt.subplot(1, 2, 2)\n",
    "plt.pie(counts_GP, autopct='%2.0f%%', radius=1.5)\n",
    "plt.legend(loc='upper right', labels = labels_GP, bbox_to_anchor=(1.5, 1.0))\n",
    "plt.text(-1.7, 2, 'school support in GP', fontsize=20)\n",
    "plt.subplots_adjust(wspace=1)"
   ]
  },
  {
   "cell_type": "markdown",
   "metadata": {},
   "source": [
    "<font size=4 color='#4682B4'>根据上图可知，位于乡村的MS学校不提供学校服务，而位于城镇的GP学校为部分学生提供学习辅导,接下来分析GP学校提供教学辅导的人员组成"
   ]
  },
  {
   "cell_type": "code",
   "execution_count": 39,
   "metadata": {},
   "outputs": [
    {
     "data": {
      "text/plain": [
       "Text(-0.8, 2.5, 'school support')"
      ]
     },
     "execution_count": 39,
     "metadata": {},
     "output_type": "execute_result"
    },
    {
     "data": {
      "image/png": "[encoded data removed]",
      "text/plain": [
       "<Figure size 432x288 with 1 Axes>"
      ]
     },
     "metadata": {},
     "output_type": "display_data"
    }
   ],
   "source": [
    "df_sup = df[df['schoolsup'] == 'yes']['grade_binned'].value_counts()\n",
    "counts = list(df_sup.values)\n",
    "labels = list(df_sup.index)\n",
    "plt.pie(counts, autopct='%2.0f%%', radius=1)\n",
    "plt.legend(loc='best', labels = labels, bbox_to_anchor=(1.5, 1.5))\n",
    "plt.text(-0.8, 2.5, 'school support', fontsize=20)"
   ]
  },
  {
   "cell_type": "markdown",
   "metadata": {},
   "source": [
    "<font size=4 color='#4682B4'>可见大部分接受辅导的学生属于中等分段，低分段的学生占比位列第二，或许这也能解释为什么城镇学生在中低分段的占比小于乡村学校"
   ]
  },
  {
   "cell_type": "markdown",
   "metadata": {},
   "source": [
    "<font size=5 color='#5CADAD' id='sc_ab'>缺席数和挂科数</font>"
   ]
  },
  {
   "cell_type": "code",
   "execution_count": 4,
   "metadata": {},
   "outputs": [
    {
     "data": {
      "text/plain": [
       "\n",
       "\tShapiro-Wilk normality test\n",
       "\n",
       "data:  df$G3\n",
       "W = 0.92873, p-value = 8.836e-13\n"
      ]
     },
     "metadata": {},
     "output_type": "display_data"
    },
    {
     "data": {
      "text/plain": [
       "\n",
       "\tShapiro-Wilk normality test\n",
       "\n",
       "data:  df$failures\n",
       "W = 0.50707, p-value < 2.2e-16\n"
      ]
     },
     "metadata": {},
     "output_type": "display_data"
    },
    {
     "data": {
      "text/plain": [
       "\n",
       "\tShapiro-Wilk normality test\n",
       "\n",
       "data:  df$absences\n",
       "W = 0.66683, p-value < 2.2e-16\n"
      ]
     },
     "metadata": {},
     "output_type": "display_data"
    }
   ],
   "source": [
    "shapiro.test(df$G3)\n",
    "shapiro.test(df$failures)\n",
    "shapiro.test(df$absences)"
   ]
  },
  {
   "cell_type": "markdown",
   "metadata": {},
   "source": [
    "<font size=4 color='#4682B4'>三组数据的p值都小于0.05，可得出结论：这些数据都不符合正态分布,因此采用spearman秩相关描述变量间的相互变化关系"
   ]
  },
  {
   "cell_type": "code",
   "execution_count": 5,
   "metadata": {},
   "outputs": [
    {
     "data": {
      "text/html": [
       "<table>\n",
       "<caption>A matrix: 2 × 2 of type dbl</caption>\n",
       "<thead>\n",
       "\t<tr><th></th><th scope=col>df.failures</th><th scope=col>df.G3</th></tr>\n",
       "</thead>\n",
       "<tbody>\n",
       "\t<tr><th scope=row>df.failures</th><td> 1.0000000</td><td>-0.3612235</td></tr>\n",
       "\t<tr><th scope=row>df.G3</th><td>-0.3612235</td><td> 1.0000000</td></tr>\n",
       "</tbody>\n",
       "</table>\n"
      ],
      "text/latex": [
       "A matrix: 2 × 2 of type dbl\n",
       "\\begin{tabular}{r|ll}\n",
       "  & df.failures & df.G3\\\\\n",
       "\\hline\n",
       "\tdf.failures &  1.0000000 & -0.3612235\\\\\n",
       "\tdf.G3 & -0.3612235 &  1.0000000\\\\\n",
       "\\end{tabular}\n"
      ],
      "text/markdown": [
       "\n",
       "A matrix: 2 × 2 of type dbl\n",
       "\n",
       "| <!--/--> | df.failures | df.G3 |\n",
       "|---|---|---|\n",
       "| df.failures |  1.0000000 | -0.3612235 |\n",
       "| df.G3 | -0.3612235 |  1.0000000 |\n",
       "\n"
      ],
      "text/plain": [
       "            df.failures df.G3     \n",
       "df.failures  1.0000000  -0.3612235\n",
       "df.G3       -0.3612235   1.0000000"
      ]
     },
     "metadata": {},
     "output_type": "display_data"
    },
    {
     "data": {
      "text/plain": [
       "\n",
       "\tSpearman's rank correlation rho\n",
       "\n",
       "data:  jitter(df$failures) and jitter(df$G3)\n",
       "S = 12833000, p-value = 5.629e-07\n",
       "alternative hypothesis: true rho is not equal to 0\n",
       "sample estimates:\n",
       "       rho \n",
       "-0.2493862 \n"
      ]
     },
     "metadata": {},
     "output_type": "display_data"
    },
    {
     "data": {
      "text/html": [
       "<table>\n",
       "<caption>A matrix: 2 × 2 of type dbl</caption>\n",
       "<thead>\n",
       "\t<tr><th></th><th scope=col>df.absences</th><th scope=col>df.G3</th></tr>\n",
       "</thead>\n",
       "<tbody>\n",
       "\t<tr><th scope=row>df.absences</th><td>1.00000000</td><td>0.01773067</td></tr>\n",
       "\t<tr><th scope=row>df.G3</th><td>0.01773067</td><td>1.00000000</td></tr>\n",
       "</tbody>\n",
       "</table>\n"
      ],
      "text/latex": [
       "A matrix: 2 × 2 of type dbl\n",
       "\\begin{tabular}{r|ll}\n",
       "  & df.absences & df.G3\\\\\n",
       "\\hline\n",
       "\tdf.absences & 1.00000000 & 0.01773067\\\\\n",
       "\tdf.G3 & 0.01773067 & 1.00000000\\\\\n",
       "\\end{tabular}\n"
      ],
      "text/markdown": [
       "\n",
       "A matrix: 2 × 2 of type dbl\n",
       "\n",
       "| <!--/--> | df.absences | df.G3 |\n",
       "|---|---|---|\n",
       "| df.absences | 1.00000000 | 0.01773067 |\n",
       "| df.G3 | 0.01773067 | 1.00000000 |\n",
       "\n"
      ],
      "text/plain": [
       "            df.absences df.G3     \n",
       "df.absences 1.00000000  0.01773067\n",
       "df.G3       0.01773067  1.00000000"
      ]
     },
     "metadata": {},
     "output_type": "display_data"
    },
    {
     "data": {
      "text/plain": [
       "\n",
       "\tSpearman's rank correlation rho\n",
       "\n",
       "data:  jitter(df$absences) and jitter(df$G3)\n",
       "S = 10049000, p-value = 0.6675\n",
       "alternative hypothesis: true rho is not equal to 0\n",
       "sample estimates:\n",
       "     rho \n",
       "0.021673 \n"
      ]
     },
     "metadata": {},
     "output_type": "display_data"
    }
   ],
   "source": [
    "df_temp = data.frame(df$failures, df$G3)\n",
    "cor(df_temp, method = 'spearman')\n",
    "cor.test(jitter(df$failures), jitter(df$G3), method = 'spearman')\n",
    "df_temp = data.frame(df$absences, df$G3)\n",
    "cor(df_temp, method = 'spearman')\n",
    "cor.test(jitter(df$absences), jitter(df$G3), method = 'spearman')"
   ]
  },
  {
   "cell_type": "markdown",
   "metadata": {},
   "source": [
    "<font size=4 color='#4682B4'>根据spearman秩和检验的结果，failures对与G3存在线性相关性，absences对G3无显著相关性"
   ]
  },
  {
   "cell_type": "markdown",
   "metadata": {},
   "source": [
    "<br><font size=6 id='summary'>总结</font>"
   ]
  },
  {
   "cell_type": "markdown",
   "metadata": {},
   "source": [
    "<font size=4 color='#4682B4'>本文从个人、家庭、学校三个维度对数据集进行了分析，得出以下结论：<br>\n",
    "    个人：<br>\n",
    "        （1）亲密关系对学习成绩有显著性影响，结合统计图可得出推论：亲密关系对学习成绩产生负面影响的概率较大<br>        \n",
    "        （2）学习时间对学习成绩有显著性影响，且线性正相关，结合柱状图得出推论：学习时间定为每周2~10小时比较合适<br>\n",
    "    家庭：<br>\n",
    "        （1）生源对学习成绩有显著性影响，整体上来看城镇生源的成绩比乡村生源的成绩要好<br>\n",
    "        （2）父母的受教育程度与子女的学习成绩呈直线正相关，父母受教育的程度越高，子女成绩好的概率越大<br>\n",
    "        （3）父母的职业对子女的成绩有显著性影响，其中父亲是教师的学生考70以上是父亲非教师的2.92倍，家庭主妇家的学生考70分以上是母亲有工作的学生的0.35倍。可得出推论：父亲为教师的学生可能经常受到父亲的指导，而母亲是家庭主妇的家庭可能由于经济收入较少导致教育资源匮乏进而影响学习成绩。<br>\n",
    "        （4）网络环境对学生的学习成绩有显著性影响，结合统计图可得出推论：有网络环境的学生成绩好的概率更大<br>\n",
    "    学校：<br>\n",
    "        （1）学校的地理位置对学习成绩有显著性影响，结合统计图可得出推论：位于城镇的学校的学生成绩好的概率更大<br>\n",
    "        （2）接受学校辅导与否对学生的学习成绩有显著性影响，结合统计图可得出推论：接受学习辅导的学生成绩好的概率更大<br>\n",
    "    结合上述三个维度，可知居住地、父母受教育程度、父母职业、网络环境、学校地理位置等对学习成绩产生显著性影响的因素具有关联性。笔者认为这些因素能综合反映出家庭的社会地位和经济实力，而经济实力或者社会地位高的家庭能获得更好的教育资源、更有机会受到优质的教育。<br>\n",
    "    在城镇与乡村学校之间的对比也可以看出教育资源在不同地区的倾斜<br>"
   ]
  }
 ],
 "metadata": {
  "kernelspec": {
   "display_name": "Python",
   "language": "python",
   "name": "conda-env-python-py"
  },
  "language_info": {
   "codemirror_mode": {
    "name": "ipython",
    "version": 3
   },
   "file_extension": ".py",
   "mimetype": "text/x-python",
   "name": "python",
   "nbconvert_exporter": "python",
   "pygments_lexer": "ipython3",
   "version": "3.6.7"
  }
 },
 "nbformat": 4,
 "nbformat_minor": 4
}
